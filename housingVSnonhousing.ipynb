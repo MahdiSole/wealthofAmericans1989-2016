{
  "nbformat": 4,
  "nbformat_minor": 0,
  "metadata": {
    "colab": {
      "name": "housingVSnonhousing.ipynb",
      "provenance": [],
      "collapsed_sections": []
    },
    "kernelspec": {
      "display_name": "Python 3",
      "name": "python3"
    },
    "language_info": {
      "name": "python"
    }
  },
  "cells": [
    {
      "cell_type": "code",
      "metadata": {
        "colab": {
          "resources": {
            "http://localhost:8080/nbextensions/google.colab/files.js": {
              "data": "Ly8gQ29weXJpZ2h0IDIwMTcgR29vZ2xlIExMQwovLwovLyBMaWNlbnNlZCB1bmRlciB0aGUgQXBhY2hlIExpY2Vuc2UsIFZlcnNpb24gMi4wICh0aGUgIkxpY2Vuc2UiKTsKLy8geW91IG1heSBub3QgdXNlIHRoaXMgZmlsZSBleGNlcHQgaW4gY29tcGxpYW5jZSB3aXRoIHRoZSBMaWNlbnNlLgovLyBZb3UgbWF5IG9idGFpbiBhIGNvcHkgb2YgdGhlIExpY2Vuc2UgYXQKLy8KLy8gICAgICBodHRwOi8vd3d3LmFwYWNoZS5vcmcvbGljZW5zZXMvTElDRU5TRS0yLjAKLy8KLy8gVW5sZXNzIHJlcXVpcmVkIGJ5IGFwcGxpY2FibGUgbGF3IG9yIGFncmVlZCB0byBpbiB3cml0aW5nLCBzb2Z0d2FyZQovLyBkaXN0cmlidXRlZCB1bmRlciB0aGUgTGljZW5zZSBpcyBkaXN0cmlidXRlZCBvbiBhbiAiQVMgSVMiIEJBU0lTLAovLyBXSVRIT1VUIFdBUlJBTlRJRVMgT1IgQ09ORElUSU9OUyBPRiBBTlkgS0lORCwgZWl0aGVyIGV4cHJlc3Mgb3IgaW1wbGllZC4KLy8gU2VlIHRoZSBMaWNlbnNlIGZvciB0aGUgc3BlY2lmaWMgbGFuZ3VhZ2UgZ292ZXJuaW5nIHBlcm1pc3Npb25zIGFuZAovLyBsaW1pdGF0aW9ucyB1bmRlciB0aGUgTGljZW5zZS4KCi8qKgogKiBAZmlsZW92ZXJ2aWV3IEhlbHBlcnMgZm9yIGdvb2dsZS5jb2xhYiBQeXRob24gbW9kdWxlLgogKi8KKGZ1bmN0aW9uKHNjb3BlKSB7CmZ1bmN0aW9uIHNwYW4odGV4dCwgc3R5bGVBdHRyaWJ1dGVzID0ge30pIHsKICBjb25zdCBlbGVtZW50ID0gZG9jdW1lbnQuY3JlYXRlRWxlbWVudCgnc3BhbicpOwogIGVsZW1lbnQudGV4dENvbnRlbnQgPSB0ZXh0OwogIGZvciAoY29uc3Qga2V5IG9mIE9iamVjdC5rZXlzKHN0eWxlQXR0cmlidXRlcykpIHsKICAgIGVsZW1lbnQuc3R5bGVba2V5XSA9IHN0eWxlQXR0cmlidXRlc1trZXldOwogIH0KICByZXR1cm4gZWxlbWVudDsKfQoKLy8gTWF4IG51bWJlciBvZiBieXRlcyB3aGljaCB3aWxsIGJlIHVwbG9hZGVkIGF0IGEgdGltZS4KY29uc3QgTUFYX1BBWUxPQURfU0laRSA9IDEwMCAqIDEwMjQ7CgpmdW5jdGlvbiBfdXBsb2FkRmlsZXMoaW5wdXRJZCwgb3V0cHV0SWQpIHsKICBjb25zdCBzdGVwcyA9IHVwbG9hZEZpbGVzU3RlcChpbnB1dElkLCBvdXRwdXRJZCk7CiAgY29uc3Qgb3V0cHV0RWxlbWVudCA9IGRvY3VtZW50LmdldEVsZW1lbnRCeUlkKG91dHB1dElkKTsKICAvLyBDYWNoZSBzdGVwcyBvbiB0aGUgb3V0cHV0RWxlbWVudCB0byBtYWtlIGl0IGF2YWlsYWJsZSBmb3IgdGhlIG5leHQgY2FsbAogIC8vIHRvIHVwbG9hZEZpbGVzQ29udGludWUgZnJvbSBQeXRob24uCiAgb3V0cHV0RWxlbWVudC5zdGVwcyA9IHN0ZXBzOwoKICByZXR1cm4gX3VwbG9hZEZpbGVzQ29udGludWUob3V0cHV0SWQpOwp9CgovLyBUaGlzIGlzIHJvdWdobHkgYW4gYXN5bmMgZ2VuZXJhdG9yIChub3Qgc3VwcG9ydGVkIGluIHRoZSBicm93c2VyIHlldCksCi8vIHdoZXJlIHRoZXJlIGFyZSBtdWx0aXBsZSBhc3luY2hyb25vdXMgc3RlcHMgYW5kIHRoZSBQeXRob24gc2lkZSBpcyBnb2luZwovLyB0byBwb2xsIGZvciBjb21wbGV0aW9uIG9mIGVhY2ggc3RlcC4KLy8gVGhpcyB1c2VzIGEgUHJvbWlzZSB0byBibG9jayB0aGUgcHl0aG9uIHNpZGUgb24gY29tcGxldGlvbiBvZiBlYWNoIHN0ZXAsCi8vIHRoZW4gcGFzc2VzIHRoZSByZXN1bHQgb2YgdGhlIHByZXZpb3VzIHN0ZXAgYXMgdGhlIGlucHV0IHRvIHRoZSBuZXh0IHN0ZXAuCmZ1bmN0aW9uIF91cGxvYWRGaWxlc0NvbnRpbnVlKG91dHB1dElkKSB7CiAgY29uc3Qgb3V0cHV0RWxlbWVudCA9IGRvY3VtZW50LmdldEVsZW1lbnRCeUlkKG91dHB1dElkKTsKICBjb25zdCBzdGVwcyA9IG91dHB1dEVsZW1lbnQuc3RlcHM7CgogIGNvbnN0IG5leHQgPSBzdGVwcy5uZXh0KG91dHB1dEVsZW1lbnQubGFzdFByb21pc2VWYWx1ZSk7CiAgcmV0dXJuIFByb21pc2UucmVzb2x2ZShuZXh0LnZhbHVlLnByb21pc2UpLnRoZW4oKHZhbHVlKSA9PiB7CiAgICAvLyBDYWNoZSB0aGUgbGFzdCBwcm9taXNlIHZhbHVlIHRvIG1ha2UgaXQgYXZhaWxhYmxlIHRvIHRoZSBuZXh0CiAgICAvLyBzdGVwIG9mIHRoZSBnZW5lcmF0b3IuCiAgICBvdXRwdXRFbGVtZW50Lmxhc3RQcm9taXNlVmFsdWUgPSB2YWx1ZTsKICAgIHJldHVybiBuZXh0LnZhbHVlLnJlc3BvbnNlOwogIH0pOwp9CgovKioKICogR2VuZXJhdG9yIGZ1bmN0aW9uIHdoaWNoIGlzIGNhbGxlZCBiZXR3ZWVuIGVhY2ggYXN5bmMgc3RlcCBvZiB0aGUgdXBsb2FkCiAqIHByb2Nlc3MuCiAqIEBwYXJhbSB7c3RyaW5nfSBpbnB1dElkIEVsZW1lbnQgSUQgb2YgdGhlIGlucHV0IGZpbGUgcGlja2VyIGVsZW1lbnQuCiAqIEBwYXJhbSB7c3RyaW5nfSBvdXRwdXRJZCBFbGVtZW50IElEIG9mIHRoZSBvdXRwdXQgZGlzcGxheS4KICogQHJldHVybiB7IUl0ZXJhYmxlPCFPYmplY3Q+fSBJdGVyYWJsZSBvZiBuZXh0IHN0ZXBzLgogKi8KZnVuY3Rpb24qIHVwbG9hZEZpbGVzU3RlcChpbnB1dElkLCBvdXRwdXRJZCkgewogIGNvbnN0IGlucHV0RWxlbWVudCA9IGRvY3VtZW50LmdldEVsZW1lbnRCeUlkKGlucHV0SWQpOwogIGlucHV0RWxlbWVudC5kaXNhYmxlZCA9IGZhbHNlOwoKICBjb25zdCBvdXRwdXRFbGVtZW50ID0gZG9jdW1lbnQuZ2V0RWxlbWVudEJ5SWQob3V0cHV0SWQpOwogIG91dHB1dEVsZW1lbnQuaW5uZXJIVE1MID0gJyc7CgogIGNvbnN0IHBpY2tlZFByb21pc2UgPSBuZXcgUHJvbWlzZSgocmVzb2x2ZSkgPT4gewogICAgaW5wdXRFbGVtZW50LmFkZEV2ZW50TGlzdGVuZXIoJ2NoYW5nZScsIChlKSA9PiB7CiAgICAgIHJlc29sdmUoZS50YXJnZXQuZmlsZXMpOwogICAgfSk7CiAgfSk7CgogIGNvbnN0IGNhbmNlbCA9IGRvY3VtZW50LmNyZWF0ZUVsZW1lbnQoJ2J1dHRvbicpOwogIGlucHV0RWxlbWVudC5wYXJlbnRFbGVtZW50LmFwcGVuZENoaWxkKGNhbmNlbCk7CiAgY2FuY2VsLnRleHRDb250ZW50ID0gJ0NhbmNlbCB1cGxvYWQnOwogIGNvbnN0IGNhbmNlbFByb21pc2UgPSBuZXcgUHJvbWlzZSgocmVzb2x2ZSkgPT4gewogICAgY2FuY2VsLm9uY2xpY2sgPSAoKSA9PiB7CiAgICAgIHJlc29sdmUobnVsbCk7CiAgICB9OwogIH0pOwoKICAvLyBXYWl0IGZvciB0aGUgdXNlciB0byBwaWNrIHRoZSBmaWxlcy4KICBjb25zdCBmaWxlcyA9IHlpZWxkIHsKICAgIHByb21pc2U6IFByb21pc2UucmFjZShbcGlja2VkUHJvbWlzZSwgY2FuY2VsUHJvbWlzZV0pLAogICAgcmVzcG9uc2U6IHsKICAgICAgYWN0aW9uOiAnc3RhcnRpbmcnLAogICAgfQogIH07CgogIGNhbmNlbC5yZW1vdmUoKTsKCiAgLy8gRGlzYWJsZSB0aGUgaW5wdXQgZWxlbWVudCBzaW5jZSBmdXJ0aGVyIHBpY2tzIGFyZSBub3QgYWxsb3dlZC4KICBpbnB1dEVsZW1lbnQuZGlzYWJsZWQgPSB0cnVlOwoKICBpZiAoIWZpbGVzKSB7CiAgICByZXR1cm4gewogICAgICByZXNwb25zZTogewogICAgICAgIGFjdGlvbjogJ2NvbXBsZXRlJywKICAgICAgfQogICAgfTsKICB9CgogIGZvciAoY29uc3QgZmlsZSBvZiBmaWxlcykgewogICAgY29uc3QgbGkgPSBkb2N1bWVudC5jcmVhdGVFbGVtZW50KCdsaScpOwogICAgbGkuYXBwZW5kKHNwYW4oZmlsZS5uYW1lLCB7Zm9udFdlaWdodDogJ2JvbGQnfSkpOwogICAgbGkuYXBwZW5kKHNwYW4oCiAgICAgICAgYCgke2ZpbGUudHlwZSB8fCAnbi9hJ30pIC0gJHtmaWxlLnNpemV9IGJ5dGVzLCBgICsKICAgICAgICBgbGFzdCBtb2RpZmllZDogJHsKICAgICAgICAgICAgZmlsZS5sYXN0TW9kaWZpZWREYXRlID8gZmlsZS5sYXN0TW9kaWZpZWREYXRlLnRvTG9jYWxlRGF0ZVN0cmluZygpIDoKICAgICAgICAgICAgICAgICAgICAgICAgICAgICAgICAgICAgJ24vYSd9IC0gYCkpOwogICAgY29uc3QgcGVyY2VudCA9IHNwYW4oJzAlIGRvbmUnKTsKICAgIGxpLmFwcGVuZENoaWxkKHBlcmNlbnQpOwoKICAgIG91dHB1dEVsZW1lbnQuYXBwZW5kQ2hpbGQobGkpOwoKICAgIGNvbnN0IGZpbGVEYXRhUHJvbWlzZSA9IG5ldyBQcm9taXNlKChyZXNvbHZlKSA9PiB7CiAgICAgIGNvbnN0IHJlYWRlciA9IG5ldyBGaWxlUmVhZGVyKCk7CiAgICAgIHJlYWRlci5vbmxvYWQgPSAoZSkgPT4gewogICAgICAgIHJlc29sdmUoZS50YXJnZXQucmVzdWx0KTsKICAgICAgfTsKICAgICAgcmVhZGVyLnJlYWRBc0FycmF5QnVmZmVyKGZpbGUpOwogICAgfSk7CiAgICAvLyBXYWl0IGZvciB0aGUgZGF0YSB0byBiZSByZWFkeS4KICAgIGxldCBmaWxlRGF0YSA9IHlpZWxkIHsKICAgICAgcHJvbWlzZTogZmlsZURhdGFQcm9taXNlLAogICAgICByZXNwb25zZTogewogICAgICAgIGFjdGlvbjogJ2NvbnRpbnVlJywKICAgICAgfQogICAgfTsKCiAgICAvLyBVc2UgYSBjaHVua2VkIHNlbmRpbmcgdG8gYXZvaWQgbWVzc2FnZSBzaXplIGxpbWl0cy4gU2VlIGIvNjIxMTU2NjAuCiAgICBsZXQgcG9zaXRpb24gPSAwOwogICAgZG8gewogICAgICBjb25zdCBsZW5ndGggPSBNYXRoLm1pbihmaWxlRGF0YS5ieXRlTGVuZ3RoIC0gcG9zaXRpb24sIE1BWF9QQVlMT0FEX1NJWkUpOwogICAgICBjb25zdCBjaHVuayA9IG5ldyBVaW50OEFycmF5KGZpbGVEYXRhLCBwb3NpdGlvbiwgbGVuZ3RoKTsKICAgICAgcG9zaXRpb24gKz0gbGVuZ3RoOwoKICAgICAgY29uc3QgYmFzZTY0ID0gYnRvYShTdHJpbmcuZnJvbUNoYXJDb2RlLmFwcGx5KG51bGwsIGNodW5rKSk7CiAgICAgIHlpZWxkIHsKICAgICAgICByZXNwb25zZTogewogICAgICAgICAgYWN0aW9uOiAnYXBwZW5kJywKICAgICAgICAgIGZpbGU6IGZpbGUubmFtZSwKICAgICAgICAgIGRhdGE6IGJhc2U2NCwKICAgICAgICB9LAogICAgICB9OwoKICAgICAgbGV0IHBlcmNlbnREb25lID0gZmlsZURhdGEuYnl0ZUxlbmd0aCA9PT0gMCA/CiAgICAgICAgICAxMDAgOgogICAgICAgICAgTWF0aC5yb3VuZCgocG9zaXRpb24gLyBmaWxlRGF0YS5ieXRlTGVuZ3RoKSAqIDEwMCk7CiAgICAgIHBlcmNlbnQudGV4dENvbnRlbnQgPSBgJHtwZXJjZW50RG9uZX0lIGRvbmVgOwoKICAgIH0gd2hpbGUgKHBvc2l0aW9uIDwgZmlsZURhdGEuYnl0ZUxlbmd0aCk7CiAgfQoKICAvLyBBbGwgZG9uZS4KICB5aWVsZCB7CiAgICByZXNwb25zZTogewogICAgICBhY3Rpb246ICdjb21wbGV0ZScsCiAgICB9CiAgfTsKfQoKc2NvcGUuZ29vZ2xlID0gc2NvcGUuZ29vZ2xlIHx8IHt9OwpzY29wZS5nb29nbGUuY29sYWIgPSBzY29wZS5nb29nbGUuY29sYWIgfHwge307CnNjb3BlLmdvb2dsZS5jb2xhYi5fZmlsZXMgPSB7CiAgX3VwbG9hZEZpbGVzLAogIF91cGxvYWRGaWxlc0NvbnRpbnVlLAp9Owp9KShzZWxmKTsK",
              "ok": true,
              "headers": [
                [
                  "content-type",
                  "application/javascript"
                ]
              ],
              "status": 200,
              "status_text": ""
            }
          },
          "base_uri": "https://localhost:8080/",
          "height": 56
        },
        "id": "wlXzdjSzbUAK",
        "outputId": "a6aec5ef-fe50-4fed-e7ae-d02c09ac2b00"
      },
      "source": [
        "import numpy as np\n",
        "import pandas as pd\n",
        "!pip install weightedstats\n",
        "import weightedstats as ws\n",
        "import matplotlib.pyplot as plt\n",
        "\n",
        "\n",
        "from google.colab import files\n",
        "uploaded = files.upload()\n",
        "\n",
        "import io\n",
        "df = pd.read_csv(io.BytesIO(uploaded['RA_21_22.csv']))\n",
        "# df = pd.read_csv('/content/RA_21_22.csv')"
      ],
      "execution_count": null,
      "outputs": [
        {
          "output_type": "stream",
          "name": "stdout",
          "text": [
            "Requirement already satisfied: weightedstats in /usr/local/lib/python3.7/dist-packages (0.4.1)\n"
          ]
        },
        {
          "output_type": "display_data",
          "data": {
            "text/html": [
              "\n",
              "     <input type=\"file\" id=\"files-9fc15a51-0225-4a01-b3a8-8117f26aae16\" name=\"files[]\" multiple disabled\n",
              "        style=\"border:none\" />\n",
              "     <output id=\"result-9fc15a51-0225-4a01-b3a8-8117f26aae16\">\n",
              "      Upload widget is only available when the cell has been executed in the\n",
              "      current browser session. Please rerun this cell to enable.\n",
              "      </output>\n",
              "      <script src=\"/nbextensions/google.colab/files.js\"></script> "
            ],
            "text/plain": [
              "<IPython.core.display.HTML object>"
            ]
          },
          "metadata": {}
        }
      ]
    },
    {
      "cell_type": "code",
      "metadata": {
        "colab": {
          "base_uri": "https://localhost:8080/"
        },
        "id": "kkH1GtHWXCE6",
        "outputId": "18aa2082-ea7a-48d5-8bde-44bd3284cd0f"
      },
      "source": [
        "df.shape"
      ],
      "execution_count": null,
      "outputs": [
        {
          "output_type": "execute_result",
          "data": {
            "text/plain": [
              "(47776, 11)"
            ]
          },
          "metadata": {},
          "execution_count": 71
        }
      ]
    },
    {
      "cell_type": "code",
      "metadata": {
        "colab": {
          "base_uri": "https://localhost:8080/",
          "height": 603
        },
        "id": "FWLr1AzqARTf",
        "outputId": "265ae757-5d3b-4054-b3b5-13da035baacc"
      },
      "source": [
        "df.info()\n",
        "df.describe()\n"
      ],
      "execution_count": null,
      "outputs": [
        {
          "output_type": "stream",
          "name": "stdout",
          "text": [
            "<class 'pandas.core.frame.DataFrame'>\n",
            "RangeIndex: 47776 entries, 0 to 47775\n",
            "Data columns (total 11 columns):\n",
            " #   Column         Non-Null Count  Dtype  \n",
            "---  ------         --------------  -----  \n",
            " 0   weight         47776 non-null  float64\n",
            " 1   year           47776 non-null  int64  \n",
            " 2   age            47776 non-null  int64  \n",
            " 3   sex            47776 non-null  object \n",
            " 4   education      47776 non-null  object \n",
            " 5   race           47776 non-null  object \n",
            " 6   asset_total    47776 non-null  float64\n",
            " 7   asset_housing  47776 non-null  float64\n",
            " 8   debt_total     47776 non-null  float64\n",
            " 9   debt_housing   47776 non-null  float64\n",
            " 10  income         47776 non-null  float64\n",
            "dtypes: float64(6), int64(2), object(3)\n",
            "memory usage: 4.0+ MB\n"
          ]
        },
        {
          "output_type": "execute_result",
          "data": {
            "text/html": [
              "<div>\n",
              "<style scoped>\n",
              "    .dataframe tbody tr th:only-of-type {\n",
              "        vertical-align: middle;\n",
              "    }\n",
              "\n",
              "    .dataframe tbody tr th {\n",
              "        vertical-align: top;\n",
              "    }\n",
              "\n",
              "    .dataframe thead th {\n",
              "        text-align: right;\n",
              "    }\n",
              "</style>\n",
              "<table border=\"1\" class=\"dataframe\">\n",
              "  <thead>\n",
              "    <tr style=\"text-align: right;\">\n",
              "      <th></th>\n",
              "      <th>weight</th>\n",
              "      <th>year</th>\n",
              "      <th>age</th>\n",
              "      <th>asset_total</th>\n",
              "      <th>asset_housing</th>\n",
              "      <th>debt_total</th>\n",
              "      <th>debt_housing</th>\n",
              "      <th>income</th>\n",
              "    </tr>\n",
              "  </thead>\n",
              "  <tbody>\n",
              "    <tr>\n",
              "      <th>count</th>\n",
              "      <td>47776.000000</td>\n",
              "      <td>47776.000000</td>\n",
              "      <td>47776.000000</td>\n",
              "      <td>4.777600e+04</td>\n",
              "      <td>4.777600e+04</td>\n",
              "      <td>4.777600e+04</td>\n",
              "      <td>4.777600e+04</td>\n",
              "      <td>4.777600e+04</td>\n",
              "    </tr>\n",
              "    <tr>\n",
              "      <th>mean</th>\n",
              "      <td>4568.529699</td>\n",
              "      <td>2004.196542</td>\n",
              "      <td>50.963287</td>\n",
              "      <td>9.616921e+06</td>\n",
              "      <td>5.802055e+05</td>\n",
              "      <td>2.596873e+05</td>\n",
              "      <td>1.160737e+05</td>\n",
              "      <td>7.583277e+05</td>\n",
              "    </tr>\n",
              "    <tr>\n",
              "      <th>std</th>\n",
              "      <td>3085.808910</td>\n",
              "      <td>8.523680</td>\n",
              "      <td>16.220338</td>\n",
              "      <td>5.178782e+07</td>\n",
              "      <td>1.977056e+06</td>\n",
              "      <td>2.542978e+06</td>\n",
              "      <td>4.435621e+05</td>\n",
              "      <td>5.289845e+06</td>\n",
              "    </tr>\n",
              "    <tr>\n",
              "      <th>min</th>\n",
              "      <td>0.200000</td>\n",
              "      <td>1989.000000</td>\n",
              "      <td>17.000000</td>\n",
              "      <td>-2.248731e+07</td>\n",
              "      <td>0.000000e+00</td>\n",
              "      <td>0.000000e+00</td>\n",
              "      <td>0.000000e+00</td>\n",
              "      <td>0.000000e+00</td>\n",
              "    </tr>\n",
              "    <tr>\n",
              "      <th>25%</th>\n",
              "      <td>2262.236877</td>\n",
              "      <td>1998.000000</td>\n",
              "      <td>39.000000</td>\n",
              "      <td>5.181932e+04</td>\n",
              "      <td>0.000000e+00</td>\n",
              "      <td>0.000000e+00</td>\n",
              "      <td>0.000000e+00</td>\n",
              "      <td>3.240437e+04</td>\n",
              "    </tr>\n",
              "    <tr>\n",
              "      <th>50%</th>\n",
              "      <td>4709.313953</td>\n",
              "      <td>2004.000000</td>\n",
              "      <td>50.000000</td>\n",
              "      <td>3.115228e+05</td>\n",
              "      <td>1.487704e+05</td>\n",
              "      <td>2.560519e+04</td>\n",
              "      <td>0.000000e+00</td>\n",
              "      <td>7.010760e+04</td>\n",
              "    </tr>\n",
              "    <tr>\n",
              "      <th>75%</th>\n",
              "      <td>6500.627949</td>\n",
              "      <td>2013.000000</td>\n",
              "      <td>63.000000</td>\n",
              "      <td>1.563578e+06</td>\n",
              "      <td>4.342556e+05</td>\n",
              "      <td>1.577590e+05</td>\n",
              "      <td>1.119516e+05</td>\n",
              "      <td>1.736499e+05</td>\n",
              "    </tr>\n",
              "    <tr>\n",
              "      <th>max</th>\n",
              "      <td>31115.820076</td>\n",
              "      <td>2016.000000</td>\n",
              "      <td>95.000000</td>\n",
              "      <td>2.928346e+09</td>\n",
              "      <td>1.826421e+08</td>\n",
              "      <td>2.934870e+08</td>\n",
              "      <td>4.482108e+07</td>\n",
              "      <td>3.519589e+08</td>\n",
              "    </tr>\n",
              "  </tbody>\n",
              "</table>\n",
              "</div>"
            ],
            "text/plain": [
              "             weight          year  ...  debt_housing        income\n",
              "count  47776.000000  47776.000000  ...  4.777600e+04  4.777600e+04\n",
              "mean    4568.529699   2004.196542  ...  1.160737e+05  7.583277e+05\n",
              "std     3085.808910      8.523680  ...  4.435621e+05  5.289845e+06\n",
              "min        0.200000   1989.000000  ...  0.000000e+00  0.000000e+00\n",
              "25%     2262.236877   1998.000000  ...  0.000000e+00  3.240437e+04\n",
              "50%     4709.313953   2004.000000  ...  0.000000e+00  7.010760e+04\n",
              "75%     6500.627949   2013.000000  ...  1.119516e+05  1.736499e+05\n",
              "max    31115.820076   2016.000000  ...  4.482108e+07  3.519589e+08\n",
              "\n",
              "[8 rows x 8 columns]"
            ]
          },
          "metadata": {},
          "execution_count": 72
        }
      ]
    },
    {
      "cell_type": "code",
      "metadata": {
        "colab": {
          "base_uri": "https://localhost:8080/",
          "height": 173
        },
        "id": "gXs2Wgfc7J76",
        "outputId": "e97c34ca-a78a-4037-dd3c-a09fe47edcbe"
      },
      "source": [
        "df.describe(include=object)"
      ],
      "execution_count": null,
      "outputs": [
        {
          "output_type": "execute_result",
          "data": {
            "text/html": [
              "<div>\n",
              "<style scoped>\n",
              "    .dataframe tbody tr th:only-of-type {\n",
              "        vertical-align: middle;\n",
              "    }\n",
              "\n",
              "    .dataframe tbody tr th {\n",
              "        vertical-align: top;\n",
              "    }\n",
              "\n",
              "    .dataframe thead th {\n",
              "        text-align: right;\n",
              "    }\n",
              "</style>\n",
              "<table border=\"1\" class=\"dataframe\">\n",
              "  <thead>\n",
              "    <tr style=\"text-align: right;\">\n",
              "      <th></th>\n",
              "      <th>sex</th>\n",
              "      <th>education</th>\n",
              "      <th>race</th>\n",
              "    </tr>\n",
              "  </thead>\n",
              "  <tbody>\n",
              "    <tr>\n",
              "      <th>count</th>\n",
              "      <td>47776</td>\n",
              "      <td>47776</td>\n",
              "      <td>47776</td>\n",
              "    </tr>\n",
              "    <tr>\n",
              "      <th>unique</th>\n",
              "      <td>2</td>\n",
              "      <td>3</td>\n",
              "      <td>4</td>\n",
              "    </tr>\n",
              "    <tr>\n",
              "      <th>top</th>\n",
              "      <td>male</td>\n",
              "      <td>college degree</td>\n",
              "      <td>white</td>\n",
              "    </tr>\n",
              "    <tr>\n",
              "      <th>freq</th>\n",
              "      <td>37212</td>\n",
              "      <td>19444</td>\n",
              "      <td>37044</td>\n",
              "    </tr>\n",
              "  </tbody>\n",
              "</table>\n",
              "</div>"
            ],
            "text/plain": [
              "          sex       education   race\n",
              "count   47776           47776  47776\n",
              "unique      2               3      4\n",
              "top      male  college degree  white\n",
              "freq    37212           19444  37044"
            ]
          },
          "metadata": {},
          "execution_count": 73
        }
      ]
    },
    {
      "cell_type": "code",
      "metadata": {
        "colab": {
          "base_uri": "https://localhost:8080/"
        },
        "id": "bovmFjgt7zb1",
        "outputId": "0b1b54b7-489a-420e-b360-b2028283223b"
      },
      "source": [
        "df[\"race\"].value_counts()"
      ],
      "execution_count": null,
      "outputs": [
        {
          "output_type": "execute_result",
          "data": {
            "text/plain": [
              "white       37044\n",
              "black        5186\n",
              "Hispanic     3553\n",
              "other        1993\n",
              "Name: race, dtype: int64"
            ]
          },
          "metadata": {},
          "execution_count": 74
        }
      ]
    },
    {
      "cell_type": "code",
      "metadata": {
        "colab": {
          "base_uri": "https://localhost:8080/"
        },
        "id": "pEraSez3F2Pd",
        "outputId": "f4aaa95e-9014-4f20-aef0-e3f999c327a7"
      },
      "source": [
        "df[\"education\"].value_counts()"
      ],
      "execution_count": null,
      "outputs": [
        {
          "output_type": "execute_result",
          "data": {
            "text/plain": [
              "college degree    19444\n",
              "no college        17820\n",
              "some college      10512\n",
              "Name: education, dtype: int64"
            ]
          },
          "metadata": {},
          "execution_count": 75
        }
      ]
    },
    {
      "cell_type": "code",
      "metadata": {
        "colab": {
          "base_uri": "https://localhost:8080/"
        },
        "id": "_m4E5Qj6d7Fd",
        "outputId": "0dd64778-c581-4946-f676-22806978edfd"
      },
      "source": [
        "df[\"year\"].value_counts()   #WHY?"
      ],
      "execution_count": null,
      "outputs": [
        {
          "output_type": "execute_result",
          "data": {
            "text/plain": [
              "2010    6482\n",
              "2016    6248\n",
              "2013    6015\n",
              "2004    4519\n",
              "2001    4442\n",
              "2007    4417\n",
              "1998    4305\n",
              "1995    4299\n",
              "1992    3906\n",
              "1989    3143\n",
              "Name: year, dtype: int64"
            ]
          },
          "metadata": {},
          "execution_count": 76
        }
      ]
    },
    {
      "cell_type": "code",
      "metadata": {
        "colab": {
          "base_uri": "https://localhost:8080/",
          "height": 507
        },
        "id": "pmTGczLKgmZc",
        "outputId": "e73cd34b-40ae-4a93-a54d-cee65bbbf5b9"
      },
      "source": [
        "df[\"wealth_total\"] = df.asset_total - df.debt_total\n",
        "df[\"wealth_housing\"] = df.asset_housing - df.debt_housing\n",
        "df[\"wealth_Nhousing\"] = df.wealth_total - df.wealth_housing\n",
        "\n",
        "df"
      ],
      "execution_count": null,
      "outputs": [
        {
          "output_type": "execute_result",
          "data": {
            "text/html": [
              "<div>\n",
              "<style scoped>\n",
              "    .dataframe tbody tr th:only-of-type {\n",
              "        vertical-align: middle;\n",
              "    }\n",
              "\n",
              "    .dataframe tbody tr th {\n",
              "        vertical-align: top;\n",
              "    }\n",
              "\n",
              "    .dataframe thead th {\n",
              "        text-align: right;\n",
              "    }\n",
              "</style>\n",
              "<table border=\"1\" class=\"dataframe\">\n",
              "  <thead>\n",
              "    <tr style=\"text-align: right;\">\n",
              "      <th></th>\n",
              "      <th>weight</th>\n",
              "      <th>year</th>\n",
              "      <th>age</th>\n",
              "      <th>sex</th>\n",
              "      <th>education</th>\n",
              "      <th>race</th>\n",
              "      <th>asset_total</th>\n",
              "      <th>asset_housing</th>\n",
              "      <th>debt_total</th>\n",
              "      <th>debt_housing</th>\n",
              "      <th>income</th>\n",
              "      <th>wealth_total</th>\n",
              "      <th>wealth_housing</th>\n",
              "      <th>wealth_Nhousing</th>\n",
              "    </tr>\n",
              "  </thead>\n",
              "  <tbody>\n",
              "    <tr>\n",
              "      <th>0</th>\n",
              "      <td>6859.959728</td>\n",
              "      <td>1989</td>\n",
              "      <td>35</td>\n",
              "      <td>female</td>\n",
              "      <td>no college</td>\n",
              "      <td>white</td>\n",
              "      <td>3731.72</td>\n",
              "      <td>0.00</td>\n",
              "      <td>1530.01</td>\n",
              "      <td>0.00</td>\n",
              "      <td>9737.17</td>\n",
              "      <td>2201.71</td>\n",
              "      <td>0.00</td>\n",
              "      <td>2201.71</td>\n",
              "    </tr>\n",
              "    <tr>\n",
              "      <th>1</th>\n",
              "      <td>7375.788638</td>\n",
              "      <td>1989</td>\n",
              "      <td>35</td>\n",
              "      <td>female</td>\n",
              "      <td>no college</td>\n",
              "      <td>black</td>\n",
              "      <td>0.00</td>\n",
              "      <td>0.00</td>\n",
              "      <td>0.00</td>\n",
              "      <td>0.00</td>\n",
              "      <td>11684.60</td>\n",
              "      <td>0.00</td>\n",
              "      <td>0.00</td>\n",
              "      <td>0.00</td>\n",
              "    </tr>\n",
              "    <tr>\n",
              "      <th>2</th>\n",
              "      <td>4193.294199</td>\n",
              "      <td>1989</td>\n",
              "      <td>40</td>\n",
              "      <td>male</td>\n",
              "      <td>no college</td>\n",
              "      <td>other</td>\n",
              "      <td>216439.77</td>\n",
              "      <td>139939.51</td>\n",
              "      <td>26681.80</td>\n",
              "      <td>18658.60</td>\n",
              "      <td>83739.63</td>\n",
              "      <td>189757.97</td>\n",
              "      <td>121280.91</td>\n",
              "      <td>68477.06</td>\n",
              "    </tr>\n",
              "    <tr>\n",
              "      <th>3</th>\n",
              "      <td>4743.208024</td>\n",
              "      <td>1989</td>\n",
              "      <td>51</td>\n",
              "      <td>female</td>\n",
              "      <td>no college</td>\n",
              "      <td>black</td>\n",
              "      <td>40060.02</td>\n",
              "      <td>18658.60</td>\n",
              "      <td>26383.26</td>\n",
              "      <td>5597.58</td>\n",
              "      <td>19474.33</td>\n",
              "      <td>13676.76</td>\n",
              "      <td>13061.02</td>\n",
              "      <td>615.74</td>\n",
              "    </tr>\n",
              "    <tr>\n",
              "      <th>4</th>\n",
              "      <td>5971.319496</td>\n",
              "      <td>1989</td>\n",
              "      <td>28</td>\n",
              "      <td>male</td>\n",
              "      <td>no college</td>\n",
              "      <td>black</td>\n",
              "      <td>35675.24</td>\n",
              "      <td>33585.48</td>\n",
              "      <td>27987.90</td>\n",
              "      <td>20524.46</td>\n",
              "      <td>35053.80</td>\n",
              "      <td>7687.34</td>\n",
              "      <td>13061.02</td>\n",
              "      <td>-5373.68</td>\n",
              "    </tr>\n",
              "    <tr>\n",
              "      <th>...</th>\n",
              "      <td>...</td>\n",
              "      <td>...</td>\n",
              "      <td>...</td>\n",
              "      <td>...</td>\n",
              "      <td>...</td>\n",
              "      <td>...</td>\n",
              "      <td>...</td>\n",
              "      <td>...</td>\n",
              "      <td>...</td>\n",
              "      <td>...</td>\n",
              "      <td>...</td>\n",
              "      <td>...</td>\n",
              "      <td>...</td>\n",
              "      <td>...</td>\n",
              "    </tr>\n",
              "    <tr>\n",
              "      <th>47771</th>\n",
              "      <td>3033.103970</td>\n",
              "      <td>2016</td>\n",
              "      <td>43</td>\n",
              "      <td>male</td>\n",
              "      <td>some college</td>\n",
              "      <td>white</td>\n",
              "      <td>253300.00</td>\n",
              "      <td>0.00</td>\n",
              "      <td>96500.00</td>\n",
              "      <td>0.00</td>\n",
              "      <td>113415.28</td>\n",
              "      <td>156800.00</td>\n",
              "      <td>0.00</td>\n",
              "      <td>156800.00</td>\n",
              "    </tr>\n",
              "    <tr>\n",
              "      <th>47772</th>\n",
              "      <td>5721.988043</td>\n",
              "      <td>2016</td>\n",
              "      <td>67</td>\n",
              "      <td>male</td>\n",
              "      <td>some college</td>\n",
              "      <td>white</td>\n",
              "      <td>279400.00</td>\n",
              "      <td>120000.00</td>\n",
              "      <td>15000.00</td>\n",
              "      <td>0.00</td>\n",
              "      <td>109364.73</td>\n",
              "      <td>264400.00</td>\n",
              "      <td>120000.00</td>\n",
              "      <td>144400.00</td>\n",
              "    </tr>\n",
              "    <tr>\n",
              "      <th>47773</th>\n",
              "      <td>4824.390087</td>\n",
              "      <td>2016</td>\n",
              "      <td>60</td>\n",
              "      <td>male</td>\n",
              "      <td>college degree</td>\n",
              "      <td>white</td>\n",
              "      <td>1500.00</td>\n",
              "      <td>0.00</td>\n",
              "      <td>35000.00</td>\n",
              "      <td>0.00</td>\n",
              "      <td>40505.46</td>\n",
              "      <td>-33500.00</td>\n",
              "      <td>0.00</td>\n",
              "      <td>-33500.00</td>\n",
              "    </tr>\n",
              "    <tr>\n",
              "      <th>47774</th>\n",
              "      <td>4132.549093</td>\n",
              "      <td>2016</td>\n",
              "      <td>48</td>\n",
              "      <td>female</td>\n",
              "      <td>no college</td>\n",
              "      <td>white</td>\n",
              "      <td>4430.00</td>\n",
              "      <td>0.00</td>\n",
              "      <td>100.00</td>\n",
              "      <td>0.00</td>\n",
              "      <td>23290.64</td>\n",
              "      <td>4330.00</td>\n",
              "      <td>0.00</td>\n",
              "      <td>4330.00</td>\n",
              "    </tr>\n",
              "    <tr>\n",
              "      <th>47775</th>\n",
              "      <td>4461.752118</td>\n",
              "      <td>2016</td>\n",
              "      <td>29</td>\n",
              "      <td>male</td>\n",
              "      <td>some college</td>\n",
              "      <td>white</td>\n",
              "      <td>92600.00</td>\n",
              "      <td>0.00</td>\n",
              "      <td>15900.00</td>\n",
              "      <td>0.00</td>\n",
              "      <td>21265.36</td>\n",
              "      <td>76700.00</td>\n",
              "      <td>0.00</td>\n",
              "      <td>76700.00</td>\n",
              "    </tr>\n",
              "  </tbody>\n",
              "</table>\n",
              "<p>47776 rows × 14 columns</p>\n",
              "</div>"
            ],
            "text/plain": [
              "            weight  year  age  ... wealth_total wealth_housing wealth_Nhousing\n",
              "0      6859.959728  1989   35  ...      2201.71           0.00         2201.71\n",
              "1      7375.788638  1989   35  ...         0.00           0.00            0.00\n",
              "2      4193.294199  1989   40  ...    189757.97      121280.91        68477.06\n",
              "3      4743.208024  1989   51  ...     13676.76       13061.02          615.74\n",
              "4      5971.319496  1989   28  ...      7687.34       13061.02        -5373.68\n",
              "...            ...   ...  ...  ...          ...            ...             ...\n",
              "47771  3033.103970  2016   43  ...    156800.00           0.00       156800.00\n",
              "47772  5721.988043  2016   67  ...    264400.00      120000.00       144400.00\n",
              "47773  4824.390087  2016   60  ...    -33500.00           0.00       -33500.00\n",
              "47774  4132.549093  2016   48  ...      4330.00           0.00         4330.00\n",
              "47775  4461.752118  2016   29  ...     76700.00           0.00        76700.00\n",
              "\n",
              "[47776 rows x 14 columns]"
            ]
          },
          "metadata": {},
          "execution_count": 77
        }
      ]
    },
    {
      "cell_type": "code",
      "metadata": {
        "colab": {
          "base_uri": "https://localhost:8080/"
        },
        "id": "Wt4GSUYpNljq",
        "outputId": "3fd63af7-e0b3-4d49-c7f1-7c649848044a"
      },
      "source": [
        "df.groupby([\"year\", \"race\", \"education\"])[\"asset_housing\"].count()"
      ],
      "execution_count": null,
      "outputs": [
        {
          "output_type": "execute_result",
          "data": {
            "text/plain": [
              "year  race      education     \n",
              "1989  Hispanic  college degree      11\n",
              "                no college         117\n",
              "                some college        34\n",
              "      black     college degree      36\n",
              "                no college         226\n",
              "                                  ... \n",
              "2016  other     no college          67\n",
              "                some college        60\n",
              "      white     college degree    2188\n",
              "                no college        1230\n",
              "                some college      1063\n",
              "Name: asset_housing, Length: 120, dtype: int64"
            ]
          },
          "metadata": {},
          "execution_count": 78
        }
      ]
    },
    {
      "cell_type": "code",
      "metadata": {
        "colab": {
          "base_uri": "https://localhost:8080/"
        },
        "id": "y6utYGD0D1yf",
        "outputId": "3199788b-d565-4dce-f780-f4f0ee0a6234"
      },
      "source": [
        "for x in range(1989, 2019, 3):\n",
        "   print(ws.weighted_median(df.loc[df['year'] == x, 'wealth_Nhousing'], weights = df.loc[df['year'] == x, 'weight']))"
      ],
      "execution_count": null,
      "outputs": [
        {
          "output_type": "stream",
          "name": "stdout",
          "text": [
            "29536.559999999998\n",
            "27101.420000000013\n",
            "34452.09\n",
            "44442.26000000002\n",
            "53381.130000000005\n",
            "44130.84\n",
            "46853.29000000002\n",
            "33093.54\n",
            "30417.579999999987\n",
            "34300.0\n"
          ]
        }
      ]
    },
    {
      "cell_type": "markdown",
      "metadata": {
        "id": "mUHd6wTerA2C"
      },
      "source": [
        "**RACE AND EDUCATION** "
      ]
    },
    {
      "cell_type": "code",
      "metadata": {
        "id": "fXLR0sr_m827"
      },
      "source": [
        "#WHIES"
      ],
      "execution_count": null,
      "outputs": []
    },
    {
      "cell_type": "code",
      "metadata": {
        "colab": {
          "base_uri": "https://localhost:8080/"
        },
        "id": "02NHESwSihlC",
        "outputId": "c7450d63-d885-4172-81d1-1f1bbf8587fd"
      },
      "source": [
        "for x in range(1989, 2019, 3):\n",
        " print(ws.weighted_median(df.loc[(df['year'] == x) &\n",
        "                          (df['race'] == 'white') & \n",
        "                          (df['education'] == 'college degree') , \n",
        "                          'wealth_total'], \n",
        "         weights = df.loc[(df['year'] == x) &\n",
        "                          (df['race'] == 'white') & \n",
        "                          (df['education'] == 'college degree'), 'weight']))"
      ],
      "execution_count": null,
      "outputs": [
        {
          "output_type": "stream",
          "name": "stdout",
          "text": [
            "272415.57\n",
            "196435.03999999998\n",
            "205538.08000000002\n",
            "281591.06999999995\n",
            "406455.31\n",
            "387511.98\n",
            "443334.47000000003\n",
            "338893.8\n",
            "379962.06000000006\n",
            "393160.0\n"
          ]
        }
      ]
    },
    {
      "cell_type": "code",
      "metadata": {
        "colab": {
          "base_uri": "https://localhost:8080/"
        },
        "id": "amIfZJ_ClIOL",
        "outputId": "f2c2459f-04af-42aa-e529-6cd72b270b38"
      },
      "source": [
        "for x in range(1989, 2019, 3):\n",
        " print(ws.weighted_median(df.loc[(df['year'] == x) &\n",
        "                          (df['race'] == 'white') & \n",
        "                          (df['education'] == 'some college') , \n",
        "                          'wealth_total'], \n",
        "         weights = df.loc[(df['year'] == x) &\n",
        "                          (df['race'] == 'white') & \n",
        "                          (df['education'] == 'some college'), 'weight']))"
      ],
      "execution_count": null,
      "outputs": [
        {
          "output_type": "stream",
          "name": "stdout",
          "text": [
            "124602.13999999998\n",
            "114476.70000000001\n",
            "97922.2599999999\n",
            "135948.66\n",
            "162920.84000000003\n",
            "125677.49000000002\n",
            "149615.54\n",
            "96605.73000000001\n",
            "89613.30000000002\n",
            "102930.0\n"
          ]
        }
      ]
    },
    {
      "cell_type": "code",
      "metadata": {
        "colab": {
          "base_uri": "https://localhost:8080/"
        },
        "id": "NFog5SQalG7q",
        "outputId": "8915a420-1578-4da9-c740-cca9af1137f4"
      },
      "source": [
        "for x in range(1989, 2019, 3):\n",
        " print(ws.weighted_median(df.loc[(df['year'] == x) &\n",
        "                          (df['race'] == 'white') & \n",
        "                          (df['education'] == 'no college') , \n",
        "                          'wealth_total'], \n",
        "         weights = df.loc[(df['year'] == x) &\n",
        "                          (df['race'] == 'white') & \n",
        "                          (df['education'] == 'no college'), 'weight']))"
      ],
      "execution_count": null,
      "outputs": [
        {
          "output_type": "stream",
          "name": "stdout",
          "text": [
            "100383.27\n",
            "77614.73000000001\n",
            "95369.67000000001\n",
            "98708.11\n",
            "103090.61\n",
            "106766.1\n",
            "112674.85999999999\n",
            "76820.35\n",
            "79085.73\n",
            "94400.0\n"
          ]
        }
      ]
    },
    {
      "cell_type": "code",
      "metadata": {
        "id": "Uc0kIVIalIbz"
      },
      "source": [
        "#BLACKS"
      ],
      "execution_count": null,
      "outputs": []
    },
    {
      "cell_type": "code",
      "metadata": {
        "colab": {
          "base_uri": "https://localhost:8080/"
        },
        "id": "3rYJqZ0ZlIV6",
        "outputId": "dc0d73ed-659c-4b75-c84f-5afdbc842dd9"
      },
      "source": [
        "for x in range(1989, 2019, 3):\n",
        " print(ws.weighted_median(df.loc[(df['year'] == x) &\n",
        "                          (df['race'] == 'black') & \n",
        "                          (df['education'] == 'college degree') , \n",
        "                          'wealth_total'], \n",
        "         weights = df.loc[(df['year'] == x) &\n",
        "                          (df['race'] == 'black') & \n",
        "                          (df['education'] == 'college degree'), 'weight']))"
      ],
      "execution_count": null,
      "outputs": [
        {
          "output_type": "stream",
          "name": "stdout",
          "text": [
            "75492.70000000001\n",
            "82344.06\n",
            "46275.42999999999\n",
            "112311.82999999999\n",
            "125255.98000000001\n",
            "113786.32999999999\n",
            "86480.56\n",
            "81783.28\n",
            "35057.549999999996\n",
            "68200.0\n"
          ]
        }
      ]
    },
    {
      "cell_type": "code",
      "metadata": {
        "colab": {
          "base_uri": "https://localhost:8080/"
        },
        "id": "GAt2gTWClIg7",
        "outputId": "07b0370a-1782-4a81-a2c8-537264cc76be"
      },
      "source": [
        "for x in range(1989, 2019, 3):\n",
        " print(ws.weighted_median(df.loc[(df['year'] == x) &\n",
        "                          (df['race'] == 'black') & \n",
        "                          (df['education'] == 'some college') , \n",
        "                          'wealth_total'], \n",
        "         weights = df.loc[(df['year'] == x) &\n",
        "                          (df['race'] == 'black') & \n",
        "                          (df['education'] == 'some college'), 'weight']))"
      ],
      "execution_count": null,
      "outputs": [
        {
          "output_type": "stream",
          "name": "stdout",
          "text": [
            "29200.710000000006\n",
            "27822.569999999996\n",
            "22080.660000000003\n",
            "42655.469999999994\n",
            "27503.47\n",
            "31603.78\n",
            "35087.86\n",
            "12164.14\n",
            "11032.819999999992\n",
            "12500.0\n"
          ]
        }
      ]
    },
    {
      "cell_type": "code",
      "metadata": {
        "colab": {
          "base_uri": "https://localhost:8080/"
        },
        "id": "jqERFFI9lIlQ",
        "outputId": "9a571196-6ca7-4ca1-e690-2d62c2cc8a60"
      },
      "source": [
        "for x in range(1989, 2019, 3):\n",
        " print(ws.weighted_median(df.loc[(df['year'] == x) &\n",
        "                          (df['race'] == 'black') & \n",
        "                          (df['education'] == 'no college') , \n",
        "                          'wealth_total'], \n",
        "         weights = df.loc[(df['year'] == x) &\n",
        "                          (df['race'] == 'black') & \n",
        "                          (df['education'] == 'no college'), 'weight']))"
      ],
      "execution_count": null,
      "outputs": [
        {
          "output_type": "stream",
          "name": "stdout",
          "text": [
            "4739.279999999999\n",
            "5064.75\n",
            "6968.72\n",
            "13146.33\n",
            "15038.849999999977\n",
            "16215.22\n",
            "9704.160000000003\n",
            "11230.14\n",
            "6805.290000000008\n",
            "10010.0\n"
          ]
        }
      ]
    },
    {
      "cell_type": "code",
      "metadata": {
        "id": "YzBI16qAlJAl"
      },
      "source": [
        "#HISPANICS"
      ],
      "execution_count": null,
      "outputs": []
    },
    {
      "cell_type": "code",
      "metadata": {
        "colab": {
          "base_uri": "https://localhost:8080/"
        },
        "id": "CEgDhMYOldcc",
        "outputId": "662d6fcb-0a3e-4efb-e375-b7f2cb537614"
      },
      "source": [
        "for x in range(1989, 2019, 3):\n",
        " print(ws.weighted_median(df.loc[(df['year'] == x) &\n",
        "                          (df['race'] == 'Hispanic') & \n",
        "                          (df['education'] == 'college degree') , \n",
        "                          'wealth_total'], \n",
        "         weights = df.loc[(df['year'] == x) &\n",
        "                          (df['race'] == 'Hispanic') & \n",
        "                          (df['education'] == 'college degree'), 'weight']))"
      ],
      "execution_count": null,
      "outputs": [
        {
          "output_type": "stream",
          "name": "stdout",
          "text": [
            "3358.5499999999993\n",
            "57523.45999999999\n",
            "94148.19\n",
            "194332.52\n",
            "158924.03\n",
            "162660.91999999998\n",
            "180592.44\n",
            "67480.32\n",
            "50111.689999999944\n",
            "73910.0\n"
          ]
        }
      ]
    },
    {
      "cell_type": "code",
      "metadata": {
        "colab": {
          "base_uri": "https://localhost:8080/"
        },
        "id": "LVM9BMPhldfl",
        "outputId": "fa523a08-bccc-4e52-c32b-8ffac38bf1ce"
      },
      "source": [
        "for x in range(1989, 2019, 3):\n",
        " print(ws.weighted_median(df.loc[(df['year'] == x) &\n",
        "                          (df['race'] == 'Hispanic') & \n",
        "                          (df['education'] == 'some college') , \n",
        "                          'wealth_total'], \n",
        "         weights = df.loc[(df['year'] == x) &\n",
        "                          (df['race'] == 'Hispanic') & \n",
        "                          (df['education'] == 'some college'), 'weight']))"
      ],
      "execution_count": null,
      "outputs": [
        {
          "output_type": "stream",
          "name": "stdout",
          "text": [
            "54072.62999999999\n",
            "10911.009999999998\n",
            "29566.17\n",
            "34673.25\n",
            "19645.34\n",
            "36245.79000000001\n",
            "31382.209999999992\n",
            "16248.330000000002\n",
            "14095.2\n",
            "21500.0\n"
          ]
        }
      ]
    },
    {
      "cell_type": "code",
      "metadata": {
        "colab": {
          "base_uri": "https://localhost:8080/"
        },
        "id": "vZXhvLAGldia",
        "outputId": "a4141f6d-ffe6-4f84-f2e2-415d04152681"
      },
      "source": [
        "for x in range(1989, 2019, 3):\n",
        " print(ws.weighted_median(df.loc[(df['year'] == x) &\n",
        "                          (df['race'] == 'Hispanic') & \n",
        "                          (df['education'] == 'no college') , \n",
        "                          'wealth_total'], \n",
        "         weights = df.loc[(df['year'] == x) &\n",
        "                          (df['race'] == 'Hispanic') & \n",
        "                          (df['education'] == 'no college'), 'weight']))"
      ],
      "execution_count": null,
      "outputs": [
        {
          "output_type": "stream",
          "name": "stdout",
          "text": [
            "4683.3\n",
            "7530.04\n",
            "8769.62\n",
            "11065.93\n",
            "10161.380000000001\n",
            "13709.810000000012\n",
            "19547.29\n",
            "13960.300000000001\n",
            "11527.75\n",
            "16800.0\n"
          ]
        }
      ]
    },
    {
      "cell_type": "markdown",
      "metadata": {
        "id": "mcPEQAITrOD4"
      },
      "source": [
        "**EDUCATION**"
      ]
    },
    {
      "cell_type": "code",
      "metadata": {
        "colab": {
          "base_uri": "https://localhost:8080/"
        },
        "id": "BZ6vdxZjldpl",
        "outputId": "21e31c1a-bb5c-4264-f583-3a3433149595"
      },
      "source": [
        "for x in range(1989, 2019, 3):\n",
        " print(ws.weighted_median(df.loc[(df['year'] == x) &\n",
        "                          (df['education'] == 'college degree') , \n",
        "                          'wealth_total'], \n",
        "         weights = df.loc[(df['year'] == x) &\n",
        "                          (df['education'] == 'college degree'), 'weight']))"
      ],
      "execution_count": null,
      "outputs": [
        {
          "output_type": "stream",
          "name": "stdout",
          "text": [
            "233419.10000000003\n",
            "183052.03\n",
            "191459.7\n",
            "261155.99\n",
            "347722.52\n",
            "331426.39\n",
            "375822.19999999995\n",
            "276332.18999999994\n",
            "291493.28\n",
            "293500.0\n"
          ]
        }
      ]
    },
    {
      "cell_type": "code",
      "metadata": {
        "colab": {
          "base_uri": "https://localhost:8080/"
        },
        "id": "t1ezIGE5ldsY",
        "outputId": "5e3fbca6-1633-4ea9-f01f-70b7b7f7efc0"
      },
      "source": [
        "for x in range(1989, 2019, 3):\n",
        " print(ws.weighted_median(df.loc[(df['year'] == x) &\n",
        "                          (df['education'] == 'some college') , \n",
        "                          'wealth_total'], \n",
        "         weights = df.loc[(df['year'] == x) &\n",
        "                          (df['education'] == 'some college'), 'weight']))"
      ],
      "execution_count": null,
      "outputs": [
        {
          "output_type": "stream",
          "name": "stdout",
          "text": [
            "87061.03\n",
            "95173.63999999998\n",
            "75794.61\n",
            "113831.55000000002\n",
            "116246.22000000002\n",
            "97036.96000000002\n",
            "109953.53000000001\n",
            "64274.869999999995\n",
            "51967.67999999999\n",
            "66040.0\n"
          ]
        }
      ]
    },
    {
      "cell_type": "code",
      "metadata": {
        "colab": {
          "base_uri": "https://localhost:8080/"
        },
        "id": "3_SS-ljxlduZ",
        "outputId": "8a588c37-245e-4f73-f0a1-d556e37b6816"
      },
      "source": [
        "for x in range(1989, 2019, 3):\n",
        " print(ws.weighted_median(df.loc[(df['year'] == x) &\n",
        "                          (df['education'] == 'no college') , \n",
        "                          'wealth_total'], \n",
        "         weights = df.loc[(df['year'] == x) &\n",
        "                          (df['education'] == 'no college'), 'weight']))"
      ],
      "execution_count": null,
      "outputs": [
        {
          "output_type": "stream",
          "name": "stdout",
          "text": [
            "57655.07000000001\n",
            "50109.130000000005\n",
            "67651.39\n",
            "61231.490000000005\n",
            "63772.83\n",
            "63334.75000000001\n",
            "69110.34000000003\n",
            "45810.350000000006\n",
            "42027.82000000001\n",
            "45030.0\n"
          ]
        }
      ]
    },
    {
      "cell_type": "code",
      "metadata": {
        "colab": {
          "base_uri": "https://localhost:8080/",
          "height": 359
        },
        "id": "OiMDOqa2d4I8",
        "outputId": "9af2252b-cb71-4dee-d6fb-9fea433f49d8"
      },
      "source": [
        "  \n",
        "# Creating new dataframe\n",
        "initial_data = {'year': [1989, 1992, 1995, 1998, 2001, 2004, 2007, 2010, 2013, 2016],\n",
        "                'college_degree': [233419.10000000003, 183052.03\n",
        ", 191459.7, 261155.99, 347722.52, 331426.39, 375822.19999999995, 276332.18999999994, 291493.28, 293500.0],\n",
        "'some_college': [87061.03, 95173.63999999998\n",
        ", 75794.61, 113831.55000000002, 116246.22000000002, 97036.96000000002, 109953.53000000001, 64274.869999999995, 51967.67999999999, 66040.0],\n",
        " 'no_college': [57655.07000000001, 50109.130000000005\n",
        ", 67651.39, 61231.490000000005, 63772.83, 63334.75000000001, 69110.34000000003, 45810.350000000006, 42027.82000000001, 45030.0]}\n",
        "  \n",
        "dfmed = pd.DataFrame(initial_data, columns = ['year', 'college_degree', 'some_college', 'no_college'])\n",
        "  \n",
        "# Generate result using pandas\n",
        "dfmed\n",
        "\n",
        "\n",
        "\n",
        "#dfmed[\"Result\"] = A   "
      ],
      "execution_count": null,
      "outputs": [
        {
          "output_type": "execute_result",
          "data": {
            "text/html": [
              "<div>\n",
              "<style scoped>\n",
              "    .dataframe tbody tr th:only-of-type {\n",
              "        vertical-align: middle;\n",
              "    }\n",
              "\n",
              "    .dataframe tbody tr th {\n",
              "        vertical-align: top;\n",
              "    }\n",
              "\n",
              "    .dataframe thead th {\n",
              "        text-align: right;\n",
              "    }\n",
              "</style>\n",
              "<table border=\"1\" class=\"dataframe\">\n",
              "  <thead>\n",
              "    <tr style=\"text-align: right;\">\n",
              "      <th></th>\n",
              "      <th>year</th>\n",
              "      <th>college_degree</th>\n",
              "      <th>some_college</th>\n",
              "      <th>no_college</th>\n",
              "    </tr>\n",
              "  </thead>\n",
              "  <tbody>\n",
              "    <tr>\n",
              "      <th>0</th>\n",
              "      <td>1989</td>\n",
              "      <td>233419.10</td>\n",
              "      <td>87061.03</td>\n",
              "      <td>57655.07</td>\n",
              "    </tr>\n",
              "    <tr>\n",
              "      <th>1</th>\n",
              "      <td>1992</td>\n",
              "      <td>183052.03</td>\n",
              "      <td>95173.64</td>\n",
              "      <td>50109.13</td>\n",
              "    </tr>\n",
              "    <tr>\n",
              "      <th>2</th>\n",
              "      <td>1995</td>\n",
              "      <td>191459.70</td>\n",
              "      <td>75794.61</td>\n",
              "      <td>67651.39</td>\n",
              "    </tr>\n",
              "    <tr>\n",
              "      <th>3</th>\n",
              "      <td>1998</td>\n",
              "      <td>261155.99</td>\n",
              "      <td>113831.55</td>\n",
              "      <td>61231.49</td>\n",
              "    </tr>\n",
              "    <tr>\n",
              "      <th>4</th>\n",
              "      <td>2001</td>\n",
              "      <td>347722.52</td>\n",
              "      <td>116246.22</td>\n",
              "      <td>63772.83</td>\n",
              "    </tr>\n",
              "    <tr>\n",
              "      <th>5</th>\n",
              "      <td>2004</td>\n",
              "      <td>331426.39</td>\n",
              "      <td>97036.96</td>\n",
              "      <td>63334.75</td>\n",
              "    </tr>\n",
              "    <tr>\n",
              "      <th>6</th>\n",
              "      <td>2007</td>\n",
              "      <td>375822.20</td>\n",
              "      <td>109953.53</td>\n",
              "      <td>69110.34</td>\n",
              "    </tr>\n",
              "    <tr>\n",
              "      <th>7</th>\n",
              "      <td>2010</td>\n",
              "      <td>276332.19</td>\n",
              "      <td>64274.87</td>\n",
              "      <td>45810.35</td>\n",
              "    </tr>\n",
              "    <tr>\n",
              "      <th>8</th>\n",
              "      <td>2013</td>\n",
              "      <td>291493.28</td>\n",
              "      <td>51967.68</td>\n",
              "      <td>42027.82</td>\n",
              "    </tr>\n",
              "    <tr>\n",
              "      <th>9</th>\n",
              "      <td>2016</td>\n",
              "      <td>293500.00</td>\n",
              "      <td>66040.00</td>\n",
              "      <td>45030.00</td>\n",
              "    </tr>\n",
              "  </tbody>\n",
              "</table>\n",
              "</div>"
            ],
            "text/plain": [
              "   year  college_degree  some_college  no_college\n",
              "0  1989       233419.10      87061.03    57655.07\n",
              "1  1992       183052.03      95173.64    50109.13\n",
              "2  1995       191459.70      75794.61    67651.39\n",
              "3  1998       261155.99     113831.55    61231.49\n",
              "4  2001       347722.52     116246.22    63772.83\n",
              "5  2004       331426.39      97036.96    63334.75\n",
              "6  2007       375822.20     109953.53    69110.34\n",
              "7  2010       276332.19      64274.87    45810.35\n",
              "8  2013       291493.28      51967.68    42027.82\n",
              "9  2016       293500.00      66040.00    45030.00"
            ]
          },
          "metadata": {},
          "execution_count": 95
        }
      ]
    },
    {
      "cell_type": "markdown",
      "metadata": {
        "id": "5dlWpfmdrpsQ"
      },
      "source": [
        "**RACE**"
      ]
    },
    {
      "cell_type": "code",
      "metadata": {
        "colab": {
          "base_uri": "https://localhost:8080/"
        },
        "id": "j8Ca35BVldwL",
        "outputId": "1db0be4b-cdad-473d-87dc-8474841c410a"
      },
      "source": [
        "for x in range(1989, 2019, 3):\n",
        " print(ws.weighted_median(df.loc[(df['year'] == x) &\n",
        "                          (df['race'] == 'white'), \n",
        "                          'wealth_total'], \n",
        "         weights = df.loc[(df['year'] == x) &\n",
        "                          (df['race'] == 'white'), 'weight']))"
      ],
      "execution_count": null,
      "outputs": [
        {
          "output_type": "stream",
          "name": "stdout",
          "text": [
            "134901.68\n",
            "113285.98\n",
            "120582.34\n",
            "143562.02999999997\n",
            "169776.38\n",
            "170100.84\n",
            "188177.44\n",
            "136508.10000000003\n",
            "139817.79\n",
            "166001.0\n"
          ]
        }
      ]
    },
    {
      "cell_type": "code",
      "metadata": {
        "colab": {
          "base_uri": "https://localhost:8080/"
        },
        "id": "QKnKfdPOroXL",
        "outputId": "e92a91ed-573d-48d5-f8e0-b4fd1cd1d461"
      },
      "source": [
        "for x in range(1989, 2019, 3):\n",
        " print(ws.weighted_median(df.loc[(df['year'] == x) &\n",
        "                          (df['race'] == 'black'), \n",
        "                          'wealth_total'], \n",
        "         weights = df.loc[(df['year'] == x) &\n",
        "                          (df['race'] == 'black'), 'weight']))"
      ],
      "execution_count": null,
      "outputs": [
        {
          "output_type": "stream",
          "name": "stdout",
          "text": [
            "7836.62\n",
            "17827.239999999998\n",
            "18228.29\n",
            "23754.870000000003\n",
            "27503.47\n",
            "26236.86\n",
            "19802.06\n",
            "17209.96\n",
            "10785.350000000006\n",
            "15650.0\n"
          ]
        }
      ]
    },
    {
      "cell_type": "code",
      "metadata": {
        "colab": {
          "base_uri": "https://localhost:8080/"
        },
        "id": "pGJr7JvTroi4",
        "outputId": "e89b590b-f475-4f78-da83-69c4b9137f23"
      },
      "source": [
        "A = []\n",
        "for x in range(1989, 2019, 3):\n",
        "  value = ws.weighted_median(df.loc[(df['year'] == x) & \n",
        "                                    (df['race'] == 'Hispanic'), \n",
        "                                    'wealth_total'], \n",
        "                             weights = df.loc[(df['year'] == x) & \n",
        "                                              (df['race'] == 'Hispanic'), \n",
        "                                              'weight'])\n",
        "  A.append(value)\n",
        "print(A)"
      ],
      "execution_count": null,
      "outputs": [
        {
          "output_type": "stream",
          "name": "stdout",
          "text": [
            "[7463.44, 10900.940000000002, 18933.0, 14415.22, 16258.21, 19509.14, 25499.48999999999, 16581.04, 14095.2, 21300.0]\n"
          ]
        }
      ]
    },
    {
      "cell_type": "code",
      "metadata": {
        "colab": {
          "base_uri": "https://localhost:8080/",
          "height": 359
        },
        "id": "HNSC6OgQiJ_2",
        "outputId": "ba5281db-50cb-42db-b657-c729937357c6"
      },
      "source": [
        "dfmed['white'] = [134901.68, 113285.98, 120582.34, 143562.02999999997, 169776.38, 170100.84, 188177.44, 136508.10000000003, 139817.79, 166001.0]\n",
        "dfmed['black'] = [7836.62, 17827.239999999998, 18228.29, 23754.870000000003, 27503.47, 26236.86, 19802.06, 17209.96, 10785.350000000006, 15650.0]\n",
        "dfmed['Hispanic'] = [7463.44, 10900.940000000002, 18933.0, 14415.22, 16258.21, 19509.14, 25499.48999999999, 16581.04, 14095.2, 21300.0]\n",
        "dfmed['new'] = A\n",
        "\n",
        "dfmed"
      ],
      "execution_count": null,
      "outputs": [
        {
          "output_type": "execute_result",
          "data": {
            "text/html": [
              "<div>\n",
              "<style scoped>\n",
              "    .dataframe tbody tr th:only-of-type {\n",
              "        vertical-align: middle;\n",
              "    }\n",
              "\n",
              "    .dataframe tbody tr th {\n",
              "        vertical-align: top;\n",
              "    }\n",
              "\n",
              "    .dataframe thead th {\n",
              "        text-align: right;\n",
              "    }\n",
              "</style>\n",
              "<table border=\"1\" class=\"dataframe\">\n",
              "  <thead>\n",
              "    <tr style=\"text-align: right;\">\n",
              "      <th></th>\n",
              "      <th>year</th>\n",
              "      <th>college_degree</th>\n",
              "      <th>some_college</th>\n",
              "      <th>no_college</th>\n",
              "      <th>white</th>\n",
              "      <th>black</th>\n",
              "      <th>Hispanic</th>\n",
              "      <th>new</th>\n",
              "    </tr>\n",
              "  </thead>\n",
              "  <tbody>\n",
              "    <tr>\n",
              "      <th>0</th>\n",
              "      <td>1989</td>\n",
              "      <td>233419.10</td>\n",
              "      <td>87061.03</td>\n",
              "      <td>57655.07</td>\n",
              "      <td>134901.68</td>\n",
              "      <td>7836.62</td>\n",
              "      <td>7463.44</td>\n",
              "      <td>7463.44</td>\n",
              "    </tr>\n",
              "    <tr>\n",
              "      <th>1</th>\n",
              "      <td>1992</td>\n",
              "      <td>183052.03</td>\n",
              "      <td>95173.64</td>\n",
              "      <td>50109.13</td>\n",
              "      <td>113285.98</td>\n",
              "      <td>17827.24</td>\n",
              "      <td>10900.94</td>\n",
              "      <td>10900.94</td>\n",
              "    </tr>\n",
              "    <tr>\n",
              "      <th>2</th>\n",
              "      <td>1995</td>\n",
              "      <td>191459.70</td>\n",
              "      <td>75794.61</td>\n",
              "      <td>67651.39</td>\n",
              "      <td>120582.34</td>\n",
              "      <td>18228.29</td>\n",
              "      <td>18933.00</td>\n",
              "      <td>18933.00</td>\n",
              "    </tr>\n",
              "    <tr>\n",
              "      <th>3</th>\n",
              "      <td>1998</td>\n",
              "      <td>261155.99</td>\n",
              "      <td>113831.55</td>\n",
              "      <td>61231.49</td>\n",
              "      <td>143562.03</td>\n",
              "      <td>23754.87</td>\n",
              "      <td>14415.22</td>\n",
              "      <td>14415.22</td>\n",
              "    </tr>\n",
              "    <tr>\n",
              "      <th>4</th>\n",
              "      <td>2001</td>\n",
              "      <td>347722.52</td>\n",
              "      <td>116246.22</td>\n",
              "      <td>63772.83</td>\n",
              "      <td>169776.38</td>\n",
              "      <td>27503.47</td>\n",
              "      <td>16258.21</td>\n",
              "      <td>16258.21</td>\n",
              "    </tr>\n",
              "    <tr>\n",
              "      <th>5</th>\n",
              "      <td>2004</td>\n",
              "      <td>331426.39</td>\n",
              "      <td>97036.96</td>\n",
              "      <td>63334.75</td>\n",
              "      <td>170100.84</td>\n",
              "      <td>26236.86</td>\n",
              "      <td>19509.14</td>\n",
              "      <td>19509.14</td>\n",
              "    </tr>\n",
              "    <tr>\n",
              "      <th>6</th>\n",
              "      <td>2007</td>\n",
              "      <td>375822.20</td>\n",
              "      <td>109953.53</td>\n",
              "      <td>69110.34</td>\n",
              "      <td>188177.44</td>\n",
              "      <td>19802.06</td>\n",
              "      <td>25499.49</td>\n",
              "      <td>25499.49</td>\n",
              "    </tr>\n",
              "    <tr>\n",
              "      <th>7</th>\n",
              "      <td>2010</td>\n",
              "      <td>276332.19</td>\n",
              "      <td>64274.87</td>\n",
              "      <td>45810.35</td>\n",
              "      <td>136508.10</td>\n",
              "      <td>17209.96</td>\n",
              "      <td>16581.04</td>\n",
              "      <td>16581.04</td>\n",
              "    </tr>\n",
              "    <tr>\n",
              "      <th>8</th>\n",
              "      <td>2013</td>\n",
              "      <td>291493.28</td>\n",
              "      <td>51967.68</td>\n",
              "      <td>42027.82</td>\n",
              "      <td>139817.79</td>\n",
              "      <td>10785.35</td>\n",
              "      <td>14095.20</td>\n",
              "      <td>14095.20</td>\n",
              "    </tr>\n",
              "    <tr>\n",
              "      <th>9</th>\n",
              "      <td>2016</td>\n",
              "      <td>293500.00</td>\n",
              "      <td>66040.00</td>\n",
              "      <td>45030.00</td>\n",
              "      <td>166001.00</td>\n",
              "      <td>15650.00</td>\n",
              "      <td>21300.00</td>\n",
              "      <td>21300.00</td>\n",
              "    </tr>\n",
              "  </tbody>\n",
              "</table>\n",
              "</div>"
            ],
            "text/plain": [
              "   year  college_degree  some_college  ...     black  Hispanic       new\n",
              "0  1989       233419.10      87061.03  ...   7836.62   7463.44   7463.44\n",
              "1  1992       183052.03      95173.64  ...  17827.24  10900.94  10900.94\n",
              "2  1995       191459.70      75794.61  ...  18228.29  18933.00  18933.00\n",
              "3  1998       261155.99     113831.55  ...  23754.87  14415.22  14415.22\n",
              "4  2001       347722.52     116246.22  ...  27503.47  16258.21  16258.21\n",
              "5  2004       331426.39      97036.96  ...  26236.86  19509.14  19509.14\n",
              "6  2007       375822.20     109953.53  ...  19802.06  25499.49  25499.49\n",
              "7  2010       276332.19      64274.87  ...  17209.96  16581.04  16581.04\n",
              "8  2013       291493.28      51967.68  ...  10785.35  14095.20  14095.20\n",
              "9  2016       293500.00      66040.00  ...  15650.00  21300.00  21300.00\n",
              "\n",
              "[10 rows x 8 columns]"
            ]
          },
          "metadata": {},
          "execution_count": 107
        }
      ]
    },
    {
      "cell_type": "code",
      "metadata": {
        "colab": {
          "base_uri": "https://localhost:8080/",
          "height": 278
        },
        "id": "wYrZwPR5mO05",
        "outputId": "35de24ed-dff6-41dd-e8a7-aee63f906cd7"
      },
      "source": [
        "fig, ax = plt.subplots()\n",
        "\n",
        "ax.plot(dfmed['year'], dfmed['college_degree'], label = 'College Degree', color='red')\n",
        "ax.plot(dfmed['year'], dfmed['some_college'], label = 'Some College Education', color='yellow')\n",
        "ax.plot(dfmed['year'], dfmed['no_college'], label = 'No College Education', color='purple')\n",
        "\n",
        "ax.set(xlabel='Year', ylabel='Median Total Wealth (USD)')\n",
        "\n",
        "ax.legend()\n",
        "plt.show()"
      ],
      "execution_count": null,
      "outputs": [
        {
          "output_type": "display_data",
          "data": {
            "image/png": "[encoded data removed]",
            "text/plain": [
              "<Figure size 432x288 with 1 Axes>"
            ]
          },
          "metadata": {
            "needs_background": "light"
          }
        }
      ]
    },
    {
      "cell_type": "code",
      "metadata": {
        "colab": {
          "base_uri": "https://localhost:8080/",
          "height": 278
        },
        "id": "ysFuOVcjj1tp",
        "outputId": "f044326f-7431-4b47-cfd5-529417448fbb"
      },
      "source": [
        "fig, ax = plt.subplots()\n",
        "\n",
        "ax.plot(dfmed['year'], dfmed['white'], label = 'Whites')\n",
        "ax.plot(dfmed['year'], dfmed['black'], label = 'Blacks')\n",
        "ax.plot(dfmed['year'], dfmed['Hispanic'], label = 'Hispanics')\n",
        "\n",
        "ax.set(xlabel='Year', ylabel='Median Total Wealth (USD)')\n",
        "\n",
        "ax.legend()\n",
        "plt.show()"
      ],
      "execution_count": null,
      "outputs": [
        {
          "output_type": "display_data",
          "data": {
            "image/png": "[encoded data removed]",
            "text/plain": [
              "<Figure size 432x288 with 1 Axes>"
            ]
          },
          "metadata": {
            "needs_background": "light"
          }
        }
      ]
    },
    {
      "cell_type": "markdown",
      "metadata": {
        "id": "GBqB14sxtrHX"
      },
      "source": [
        "\n",
        " **HOUSING WEALTH: BLACK VS WHITE**"
      ]
    },
    {
      "cell_type": "code",
      "metadata": {
        "colab": {
          "base_uri": "https://localhost:8080/"
        },
        "id": "RQy4n2lOtn6A",
        "outputId": "48b05635-98fe-4a56-9908-9c9ecb8f8330"
      },
      "source": [
        "for x in range(1989, 2019, 3):\n",
        " print(ws.weighted_median(df.loc[(df['year'] == x) &\n",
        "                          (df['race'] == 'white'), \n",
        "                          'wealth_housing'], \n",
        "         weights = df.loc[(df['year'] == x) &\n",
        "                          (df['race'] == 'white'), 'weight']))"
      ],
      "execution_count": null,
      "outputs": [
        {
          "output_type": "stream",
          "name": "stdout",
          "text": [
            "54109.94\n",
            "46957.92\n",
            "42282.12\n",
            "49870.47\n",
            "63678.0\n",
            "69948.01000000001\n",
            "78745.02\n",
            "49739.79\n",
            "48461.92\n",
            "60000.0\n"
          ]
        }
      ]
    },
    {
      "cell_type": "code",
      "metadata": {
        "colab": {
          "base_uri": "https://localhost:8080/"
        },
        "id": "TARrS2l-r9rv",
        "outputId": "219b66ad-f8f6-4b09-da86-d3759184f8a8"
      },
      "source": [
        "for x in range(1989, 2019, 3):\n",
        " print(ws.weighted_median(df.loc[(df['year'] == x) &\n",
        "                          (df['race'] == 'black'), \n",
        "                          'wealth_housing'], \n",
        "         weights = df.loc[(df['year'] == x) &\n",
        "                          (df['race'] == 'black'), 'weight']))"
      ],
      "execution_count": null,
      "outputs": [
        {
          "output_type": "stream",
          "name": "stdout",
          "text": [
            "0.0\n",
            "0.0\n",
            "0.0\n",
            "0.0\n",
            "0.0\n",
            "0.0\n",
            "0.0\n",
            "0.0\n",
            "0.0\n",
            "0.0\n"
          ]
        }
      ]
    },
    {
      "cell_type": "code",
      "metadata": {
        "colab": {
          "base_uri": "https://localhost:8080/",
          "height": 355
        },
        "id": "dp1XyiXkD10L",
        "outputId": "b472d72c-b752-45dd-9de0-55e928048c25"
      },
      "source": [
        "dfmed['white_housing'] = [54109.94, 46957.92, 42282.12, 49870.47, 63678.0, 69948.01000000001, 78745.02, 49739.79, 48461.92, 60000.0]\n",
        "dfmed['black_housing'] = [0, 0, 0, 0, 0, 0, 0, 0, 0, 0]\n",
        "\n",
        "dfmed"
      ],
      "execution_count": null,
      "outputs": [
        {
          "output_type": "execute_result",
          "data": {
            "text/html": [
              "<div>\n",
              "<style scoped>\n",
              "    .dataframe tbody tr th:only-of-type {\n",
              "        vertical-align: middle;\n",
              "    }\n",
              "\n",
              "    .dataframe tbody tr th {\n",
              "        vertical-align: top;\n",
              "    }\n",
              "\n",
              "    .dataframe thead th {\n",
              "        text-align: right;\n",
              "    }\n",
              "</style>\n",
              "<table border=\"1\" class=\"dataframe\">\n",
              "  <thead>\n",
              "    <tr style=\"text-align: right;\">\n",
              "      <th></th>\n",
              "      <th>year</th>\n",
              "      <th>college_degree</th>\n",
              "      <th>some_college</th>\n",
              "      <th>no_college</th>\n",
              "      <th>white</th>\n",
              "      <th>black</th>\n",
              "      <th>Hispanic</th>\n",
              "      <th>white_housing</th>\n",
              "      <th>black_housing</th>\n",
              "    </tr>\n",
              "  </thead>\n",
              "  <tbody>\n",
              "    <tr>\n",
              "      <th>0</th>\n",
              "      <td>1989</td>\n",
              "      <td>233419.10</td>\n",
              "      <td>87061.03</td>\n",
              "      <td>57655.07</td>\n",
              "      <td>134901.68</td>\n",
              "      <td>7836.62</td>\n",
              "      <td>7463.44</td>\n",
              "      <td>54109.94</td>\n",
              "      <td>0</td>\n",
              "    </tr>\n",
              "    <tr>\n",
              "      <th>1</th>\n",
              "      <td>1992</td>\n",
              "      <td>183052.03</td>\n",
              "      <td>95173.64</td>\n",
              "      <td>50109.13</td>\n",
              "      <td>113285.98</td>\n",
              "      <td>17827.24</td>\n",
              "      <td>10900.94</td>\n",
              "      <td>46957.92</td>\n",
              "      <td>0</td>\n",
              "    </tr>\n",
              "    <tr>\n",
              "      <th>2</th>\n",
              "      <td>1995</td>\n",
              "      <td>191459.70</td>\n",
              "      <td>75794.61</td>\n",
              "      <td>67651.39</td>\n",
              "      <td>120582.34</td>\n",
              "      <td>18228.29</td>\n",
              "      <td>18933.00</td>\n",
              "      <td>42282.12</td>\n",
              "      <td>0</td>\n",
              "    </tr>\n",
              "    <tr>\n",
              "      <th>3</th>\n",
              "      <td>1998</td>\n",
              "      <td>261155.99</td>\n",
              "      <td>113831.55</td>\n",
              "      <td>61231.49</td>\n",
              "      <td>143562.03</td>\n",
              "      <td>23754.87</td>\n",
              "      <td>14415.22</td>\n",
              "      <td>49870.47</td>\n",
              "      <td>0</td>\n",
              "    </tr>\n",
              "    <tr>\n",
              "      <th>4</th>\n",
              "      <td>2001</td>\n",
              "      <td>347722.52</td>\n",
              "      <td>116246.22</td>\n",
              "      <td>63772.83</td>\n",
              "      <td>169776.38</td>\n",
              "      <td>27503.47</td>\n",
              "      <td>16258.21</td>\n",
              "      <td>63678.00</td>\n",
              "      <td>0</td>\n",
              "    </tr>\n",
              "    <tr>\n",
              "      <th>5</th>\n",
              "      <td>2004</td>\n",
              "      <td>331426.39</td>\n",
              "      <td>97036.96</td>\n",
              "      <td>63334.75</td>\n",
              "      <td>170100.84</td>\n",
              "      <td>26236.86</td>\n",
              "      <td>19509.14</td>\n",
              "      <td>69948.01</td>\n",
              "      <td>0</td>\n",
              "    </tr>\n",
              "    <tr>\n",
              "      <th>6</th>\n",
              "      <td>2007</td>\n",
              "      <td>375822.20</td>\n",
              "      <td>109953.53</td>\n",
              "      <td>69110.34</td>\n",
              "      <td>188177.44</td>\n",
              "      <td>19802.06</td>\n",
              "      <td>25499.49</td>\n",
              "      <td>78745.02</td>\n",
              "      <td>0</td>\n",
              "    </tr>\n",
              "    <tr>\n",
              "      <th>7</th>\n",
              "      <td>2010</td>\n",
              "      <td>276332.19</td>\n",
              "      <td>64274.87</td>\n",
              "      <td>45810.35</td>\n",
              "      <td>136508.10</td>\n",
              "      <td>17209.96</td>\n",
              "      <td>16581.04</td>\n",
              "      <td>49739.79</td>\n",
              "      <td>0</td>\n",
              "    </tr>\n",
              "    <tr>\n",
              "      <th>8</th>\n",
              "      <td>2013</td>\n",
              "      <td>291493.28</td>\n",
              "      <td>51967.68</td>\n",
              "      <td>42027.82</td>\n",
              "      <td>139817.79</td>\n",
              "      <td>10785.35</td>\n",
              "      <td>14095.20</td>\n",
              "      <td>48461.92</td>\n",
              "      <td>0</td>\n",
              "    </tr>\n",
              "    <tr>\n",
              "      <th>9</th>\n",
              "      <td>2016</td>\n",
              "      <td>293500.00</td>\n",
              "      <td>66040.00</td>\n",
              "      <td>45030.00</td>\n",
              "      <td>166001.00</td>\n",
              "      <td>15650.00</td>\n",
              "      <td>21300.00</td>\n",
              "      <td>60000.00</td>\n",
              "      <td>0</td>\n",
              "    </tr>\n",
              "  </tbody>\n",
              "</table>\n",
              "</div>"
            ],
            "text/plain": [
              "   year  college_degree  some_college  ...  Hispanic  white_housing  black_housing\n",
              "0  1989       233419.10      87061.03  ...   7463.44       54109.94              0\n",
              "1  1992       183052.03      95173.64  ...  10900.94       46957.92              0\n",
              "2  1995       191459.70      75794.61  ...  18933.00       42282.12              0\n",
              "3  1998       261155.99     113831.55  ...  14415.22       49870.47              0\n",
              "4  2001       347722.52     116246.22  ...  16258.21       63678.00              0\n",
              "5  2004       331426.39      97036.96  ...  19509.14       69948.01              0\n",
              "6  2007       375822.20     109953.53  ...  25499.49       78745.02              0\n",
              "7  2010       276332.19      64274.87  ...  16581.04       49739.79              0\n",
              "8  2013       291493.28      51967.68  ...  14095.20       48461.92              0\n",
              "9  2016       293500.00      66040.00  ...  21300.00       60000.00              0\n",
              "\n",
              "[10 rows x 9 columns]"
            ]
          },
          "metadata": {},
          "execution_count": 113
        }
      ]
    },
    {
      "cell_type": "code",
      "metadata": {
        "colab": {
          "base_uri": "https://localhost:8080/",
          "height": 278
        },
        "id": "KWnoWauTEtAx",
        "outputId": "f318f06f-6ae2-47cc-f74c-367114d973de"
      },
      "source": [
        "fig, ax = plt.subplots()\n",
        "\n",
        "ax.plot(dfmed['year'], dfmed['white_housing'], label = 'Whites')\n",
        "ax.plot(dfmed['year'], dfmed['black_housing'], label = 'Blacks')\n",
        "\n",
        "ax.set(xlabel='Year', ylabel='Median Housing Wealth (USD)')\n",
        "\n",
        "ax.legend()\n",
        "plt.show()"
      ],
      "execution_count": null,
      "outputs": [
        {
          "output_type": "display_data",
          "data": {
            "image/png": "[encoded data removed]",
            "text/plain": [
              "<Figure size 432x288 with 1 Axes>"
            ]
          },
          "metadata": {
            "needs_background": "light"
          }
        }
      ]
    },
    {
      "cell_type": "markdown",
      "metadata": {
        "id": "Qr-EHw-OuoAm"
      },
      "source": [
        " **non-housing vs HOUSING WEALTH: BLACK VS WHITE 25+**"
      ]
    },
    {
      "cell_type": "code",
      "metadata": {
        "colab": {
          "base_uri": "https://localhost:8080/"
        },
        "id": "Q0_Do0a9t_S1",
        "outputId": "62dfddc1-5381-4965-9ee4-a656acfa1296"
      },
      "source": [
        "for x in range(1989, 2019, 3):\n",
        " print(ws.weighted_median(df.loc[(df['year'] == x) &\n",
        "                          (df['race'] == 'white') & \n",
        "                          (df['age'] > 24)  & \n",
        "                          (df['wealth_housing'] > 0), \n",
        "                          'wealth_housing'], \n",
        "         weights = df.loc[(df['year'] == x) &\n",
        "                          (df['race'] == 'white') & \n",
        "                          (df['age'] > 24)  & \n",
        "                          (df['wealth_housing'] > 0), 'weight']))"
      ],
      "execution_count": null,
      "outputs": [
        {
          "output_type": "stream",
          "name": "stdout",
          "text": [
            "102622.3\n",
            "88884.63\n",
            "86130.24\n",
            "92953.83000000002\n",
            "108388.08\n",
            "120819.29\n",
            "134329.74\n",
            "110532.87\n",
            "103110.47\n",
            "118000.0\n"
          ]
        }
      ]
    },
    {
      "cell_type": "code",
      "metadata": {
        "colab": {
          "base_uri": "https://localhost:8080/",
          "height": 371
        },
        "id": "5XrJBwK_npxZ",
        "outputId": "23e3c4e0-a28f-4130-cebe-b8785d45e0e7"
      },
      "source": [
        "dfmed['white_college'] = [272415.57, 196435.03999999998, 205538.08000000002, 281591.06999999995, 406455.31, 387511.98, 443334.47000000003, 338893.8, 379962.06000000006, 393160.0]\n",
        "dfmed['white_some_college'] = [124602.13999999998, 114476.70000000001, 97922.2599999999, 135948.66, 162920.84000000003, 125677.49000000002, 149615.54, 96605.73000000001, 89613.30000000002, 102930.0]\n",
        "dfmed['white_no_college'] = [100383.27, 77614.73000000001, 95369.67000000001, 98708.11, 103090.61, 106766.1, 112674.85999999999, 76820.35, 79085.73, 94400.0]\n",
        "\n",
        "dfmed['black_college'] = [75492.70000000001, 82344.06, 46275.42999999999, 112311.82999999999, 125255.98000000001, 113786.32999999999, 86480.56, 81783.28, 35057.549999999996, 68200.0]\n",
        "dfmed['black_some_college']=[29200.710000000006, 27822.569999999996, 22080.660000000003, 42655.469999999994, 27503.47, 31603.78, 35087.86, 12164.14, 11032.819999999992, 12500.0]\n",
        "dfmed['black_no_college'] = [4739.279999999999, 5064.75, 6968.72, 13146.33, 15038.849999999977\n",
        ", 16215.22, 9704.160000000003, 11230.14, 6805.290000000008, 10010.0]\n",
        "\n",
        "\n",
        "\n",
        "dfmed"
      ],
      "execution_count": null,
      "outputs": [
        {
          "output_type": "execute_result",
          "data": {
            "text/html": [
              "<div>\n",
              "<style scoped>\n",
              "    .dataframe tbody tr th:only-of-type {\n",
              "        vertical-align: middle;\n",
              "    }\n",
              "\n",
              "    .dataframe tbody tr th {\n",
              "        vertical-align: top;\n",
              "    }\n",
              "\n",
              "    .dataframe thead th {\n",
              "        text-align: right;\n",
              "    }\n",
              "</style>\n",
              "<table border=\"1\" class=\"dataframe\">\n",
              "  <thead>\n",
              "    <tr style=\"text-align: right;\">\n",
              "      <th></th>\n",
              "      <th>year</th>\n",
              "      <th>college_degree</th>\n",
              "      <th>some_college</th>\n",
              "      <th>no_college</th>\n",
              "      <th>white</th>\n",
              "      <th>black</th>\n",
              "      <th>Hispanic</th>\n",
              "      <th>nnnew</th>\n",
              "      <th>new</th>\n",
              "      <th>white_college</th>\n",
              "      <th>white_some_college</th>\n",
              "      <th>white_no_college</th>\n",
              "      <th>black_college</th>\n",
              "      <th>black_some_college</th>\n",
              "      <th>black_no_college</th>\n",
              "    </tr>\n",
              "  </thead>\n",
              "  <tbody>\n",
              "    <tr>\n",
              "      <th>0</th>\n",
              "      <td>1989</td>\n",
              "      <td>233419.10</td>\n",
              "      <td>87061.03</td>\n",
              "      <td>57655.07</td>\n",
              "      <td>134901.68</td>\n",
              "      <td>7836.62</td>\n",
              "      <td>7463.44</td>\n",
              "      <td>21300.0</td>\n",
              "      <td>21300.0</td>\n",
              "      <td>272415.57</td>\n",
              "      <td>124602.14</td>\n",
              "      <td>100383.27</td>\n",
              "      <td>75492.70</td>\n",
              "      <td>29200.71</td>\n",
              "      <td>4739.28</td>\n",
              "    </tr>\n",
              "    <tr>\n",
              "      <th>1</th>\n",
              "      <td>1992</td>\n",
              "      <td>183052.03</td>\n",
              "      <td>95173.64</td>\n",
              "      <td>50109.13</td>\n",
              "      <td>113285.98</td>\n",
              "      <td>17827.24</td>\n",
              "      <td>10900.94</td>\n",
              "      <td>21300.0</td>\n",
              "      <td>21300.0</td>\n",
              "      <td>196435.04</td>\n",
              "      <td>114476.70</td>\n",
              "      <td>77614.73</td>\n",
              "      <td>82344.06</td>\n",
              "      <td>27822.57</td>\n",
              "      <td>5064.75</td>\n",
              "    </tr>\n",
              "    <tr>\n",
              "      <th>2</th>\n",
              "      <td>1995</td>\n",
              "      <td>191459.70</td>\n",
              "      <td>75794.61</td>\n",
              "      <td>67651.39</td>\n",
              "      <td>120582.34</td>\n",
              "      <td>18228.29</td>\n",
              "      <td>18933.00</td>\n",
              "      <td>21300.0</td>\n",
              "      <td>21300.0</td>\n",
              "      <td>205538.08</td>\n",
              "      <td>97922.26</td>\n",
              "      <td>95369.67</td>\n",
              "      <td>46275.43</td>\n",
              "      <td>22080.66</td>\n",
              "      <td>6968.72</td>\n",
              "    </tr>\n",
              "    <tr>\n",
              "      <th>3</th>\n",
              "      <td>1998</td>\n",
              "      <td>261155.99</td>\n",
              "      <td>113831.55</td>\n",
              "      <td>61231.49</td>\n",
              "      <td>143562.03</td>\n",
              "      <td>23754.87</td>\n",
              "      <td>14415.22</td>\n",
              "      <td>21300.0</td>\n",
              "      <td>21300.0</td>\n",
              "      <td>281591.07</td>\n",
              "      <td>135948.66</td>\n",
              "      <td>98708.11</td>\n",
              "      <td>112311.83</td>\n",
              "      <td>42655.47</td>\n",
              "      <td>13146.33</td>\n",
              "    </tr>\n",
              "    <tr>\n",
              "      <th>4</th>\n",
              "      <td>2001</td>\n",
              "      <td>347722.52</td>\n",
              "      <td>116246.22</td>\n",
              "      <td>63772.83</td>\n",
              "      <td>169776.38</td>\n",
              "      <td>27503.47</td>\n",
              "      <td>16258.21</td>\n",
              "      <td>21300.0</td>\n",
              "      <td>21300.0</td>\n",
              "      <td>406455.31</td>\n",
              "      <td>162920.84</td>\n",
              "      <td>103090.61</td>\n",
              "      <td>125255.98</td>\n",
              "      <td>27503.47</td>\n",
              "      <td>15038.85</td>\n",
              "    </tr>\n",
              "    <tr>\n",
              "      <th>5</th>\n",
              "      <td>2004</td>\n",
              "      <td>331426.39</td>\n",
              "      <td>97036.96</td>\n",
              "      <td>63334.75</td>\n",
              "      <td>170100.84</td>\n",
              "      <td>26236.86</td>\n",
              "      <td>19509.14</td>\n",
              "      <td>21300.0</td>\n",
              "      <td>21300.0</td>\n",
              "      <td>387511.98</td>\n",
              "      <td>125677.49</td>\n",
              "      <td>106766.10</td>\n",
              "      <td>113786.33</td>\n",
              "      <td>31603.78</td>\n",
              "      <td>16215.22</td>\n",
              "    </tr>\n",
              "    <tr>\n",
              "      <th>6</th>\n",
              "      <td>2007</td>\n",
              "      <td>375822.20</td>\n",
              "      <td>109953.53</td>\n",
              "      <td>69110.34</td>\n",
              "      <td>188177.44</td>\n",
              "      <td>19802.06</td>\n",
              "      <td>25499.49</td>\n",
              "      <td>21300.0</td>\n",
              "      <td>21300.0</td>\n",
              "      <td>443334.47</td>\n",
              "      <td>149615.54</td>\n",
              "      <td>112674.86</td>\n",
              "      <td>86480.56</td>\n",
              "      <td>35087.86</td>\n",
              "      <td>9704.16</td>\n",
              "    </tr>\n",
              "    <tr>\n",
              "      <th>7</th>\n",
              "      <td>2010</td>\n",
              "      <td>276332.19</td>\n",
              "      <td>64274.87</td>\n",
              "      <td>45810.35</td>\n",
              "      <td>136508.10</td>\n",
              "      <td>17209.96</td>\n",
              "      <td>16581.04</td>\n",
              "      <td>21300.0</td>\n",
              "      <td>21300.0</td>\n",
              "      <td>338893.80</td>\n",
              "      <td>96605.73</td>\n",
              "      <td>76820.35</td>\n",
              "      <td>81783.28</td>\n",
              "      <td>12164.14</td>\n",
              "      <td>11230.14</td>\n",
              "    </tr>\n",
              "    <tr>\n",
              "      <th>8</th>\n",
              "      <td>2013</td>\n",
              "      <td>291493.28</td>\n",
              "      <td>51967.68</td>\n",
              "      <td>42027.82</td>\n",
              "      <td>139817.79</td>\n",
              "      <td>10785.35</td>\n",
              "      <td>14095.20</td>\n",
              "      <td>21300.0</td>\n",
              "      <td>21300.0</td>\n",
              "      <td>379962.06</td>\n",
              "      <td>89613.30</td>\n",
              "      <td>79085.73</td>\n",
              "      <td>35057.55</td>\n",
              "      <td>11032.82</td>\n",
              "      <td>6805.29</td>\n",
              "    </tr>\n",
              "    <tr>\n",
              "      <th>9</th>\n",
              "      <td>2016</td>\n",
              "      <td>293500.00</td>\n",
              "      <td>66040.00</td>\n",
              "      <td>45030.00</td>\n",
              "      <td>166001.00</td>\n",
              "      <td>15650.00</td>\n",
              "      <td>21300.00</td>\n",
              "      <td>21300.0</td>\n",
              "      <td>21300.0</td>\n",
              "      <td>393160.00</td>\n",
              "      <td>102930.00</td>\n",
              "      <td>94400.00</td>\n",
              "      <td>68200.00</td>\n",
              "      <td>12500.00</td>\n",
              "      <td>10010.00</td>\n",
              "    </tr>\n",
              "  </tbody>\n",
              "</table>\n",
              "</div>"
            ],
            "text/plain": [
              "   year  college_degree  ...  black_some_college  black_no_college\n",
              "0  1989       233419.10  ...            29200.71           4739.28\n",
              "1  1992       183052.03  ...            27822.57           5064.75\n",
              "2  1995       191459.70  ...            22080.66           6968.72\n",
              "3  1998       261155.99  ...            42655.47          13146.33\n",
              "4  2001       347722.52  ...            27503.47          15038.85\n",
              "5  2004       331426.39  ...            31603.78          16215.22\n",
              "6  2007       375822.20  ...            35087.86           9704.16\n",
              "7  2010       276332.19  ...            12164.14          11230.14\n",
              "8  2013       291493.28  ...            11032.82           6805.29\n",
              "9  2016       293500.00  ...            12500.00          10010.00\n",
              "\n",
              "[10 rows x 15 columns]"
            ]
          },
          "metadata": {},
          "execution_count": 36
        }
      ]
    },
    {
      "cell_type": "code",
      "metadata": {
        "colab": {
          "base_uri": "https://localhost:8080/"
        },
        "id": "ushgWfs1urFR",
        "outputId": "c331c371-cfc1-4c55-a113-41b711677f44"
      },
      "source": [
        "for x in range(1989, 2019, 3):\n",
        " print(ws.weighted_median(df.loc[(df['year'] == x) &\n",
        "                          (df['race'] == 'black') & \n",
        "                          (df['age'] > 24)  & \n",
        "                          (df['wealth_housing'] > 0), \n",
        "                          'wealth_housing'], \n",
        "         weights = df.loc[(df['year'] == x) &\n",
        "                          (df['race'] == 'black') & \n",
        "                          (df['age'] > 24)  & \n",
        "                          (df['wealth_housing'] > 0), 'weight']))"
      ],
      "execution_count": null,
      "outputs": [
        {
          "output_type": "stream",
          "name": "stdout",
          "text": [
            "59707.52\n",
            "55343.26\n",
            "46980.130000000005\n",
            "45739.18\n",
            "52839.19\n",
            "57230.19\n",
            "69480.9\n",
            "65214.40000000001\n",
            "59804.07\n",
            "62000.0\n"
          ]
        }
      ]
    },
    {
      "cell_type": "code",
      "metadata": {
        "colab": {
          "base_uri": "https://localhost:8080/"
        },
        "id": "SPwsodyzurTl",
        "outputId": "19b5f965-a14a-4359-8fcf-02e395653923"
      },
      "source": [
        "for x in range(1989, 2019, 3):\n",
        " print(ws.weighted_median(df.loc[(df['year'] == x) &\n",
        "                          (df['race'] == 'white') & \n",
        "                          (df['age'] > 24)  & \n",
        "                          (df['wealth_Nhousing'] > 0), \n",
        "                          'wealth_Nhousing'], \n",
        "         weights = df.loc[(df['year'] == x) &\n",
        "                          (df['race'] == 'white') & \n",
        "                          (df['age'] > 24)  & \n",
        "                          (df['wealth_Nhousing'] > 0), 'weight']))"
      ],
      "execution_count": null,
      "outputs": [
        {
          "output_type": "stream",
          "name": "stdout",
          "text": [
            "64931.92999999999\n",
            "59871.350000000006\n",
            "66367.27\n",
            "95093.24\n",
            "114484.91\n",
            "103905.86\n",
            "105414.11000000002\n",
            "91742.28\n",
            "99852.17\n",
            "116300.0\n"
          ]
        }
      ]
    },
    {
      "cell_type": "code",
      "metadata": {
        "colab": {
          "base_uri": "https://localhost:8080/"
        },
        "id": "Z4rBozY8urdq",
        "outputId": "cfd6fee0-fa77-4cd2-da56-460f745e524c"
      },
      "source": [
        "for x in range(1989, 2019, 3):\n",
        " print(ws.weighted_median(df.loc[(df['year'] == x) &\n",
        "                          (df['race'] == 'black') & \n",
        "                          (df['age'] > 24)  & \n",
        "                          (df['wealth_Nhousing'] > 0), \n",
        "                          'wealth_Nhousing'], \n",
        "         weights = df.loc[(df['year'] == x) &\n",
        "                          (df['race'] == 'black') & \n",
        "                          (df['age'] > 24)  & \n",
        "                          (df['wealth_Nhousing'] > 0), 'weight']))"
      ],
      "execution_count": null,
      "outputs": [
        {
          "output_type": "stream",
          "name": "stdout",
          "text": [
            "11419.070000000007\n",
            "13248.84\n",
            "16881.520000000004\n",
            "20981.01\n",
            "25430.570000000007\n",
            "19661.75\n",
            "21203.25\n",
            "18459.0\n",
            "15879.01000000001\n",
            "16530.0\n"
          ]
        }
      ]
    },
    {
      "cell_type": "markdown",
      "metadata": {
        "id": "RblVYt5FM16l"
      },
      "source": [
        "**NEW DATA**"
      ]
    },
    {
      "cell_type": "code",
      "metadata": {
        "colab": {
          "base_uri": "https://localhost:8080/",
          "height": 375
        },
        "id": "8eyCC_vYOhg7",
        "outputId": "05ca49ad-2e14-47ec-bed6-1137e96d70de"
      },
      "source": [
        "dfmed['whitehosing25'] = [102622.3, 88884.63, 86130.24\n",
        ", 92953.83000000002, 108388.08, 120819.29, 134329.74, 110532.87, 103110.47, 118000.0]\n",
        "dfmed['blackhosing25'] = [59707.52, 55343.26, 46980.130000000005, 45739.18, 52839.19\n",
        ", 57230.19, 69480.9, 65214.40000000001, 59804.07, 62000.0]\n",
        "dfmed['whiteNhosing25'] = [64931.92999999999, 59871.350000000006\n",
        ", 66367.27, 95093.24, 114484.91, 103905.86, 105414.11000000002, 91742.28, 99852.17, 116300.0\n",
        "]\n",
        "dfmed['blackNhosing25'] = [11419.070000000007, 13248.84, 16881.520000000004\n",
        ", 20981.01, 25430.570000000007, 19661.75, 21203.25, 18459.0, 15879.01000000001\n",
        ", 16530.0]\n",
        "\n",
        "dfmed"
      ],
      "execution_count": null,
      "outputs": [
        {
          "output_type": "execute_result",
          "data": {
            "text/html": [
              "<div>\n",
              "<style scoped>\n",
              "    .dataframe tbody tr th:only-of-type {\n",
              "        vertical-align: middle;\n",
              "    }\n",
              "\n",
              "    .dataframe tbody tr th {\n",
              "        vertical-align: top;\n",
              "    }\n",
              "\n",
              "    .dataframe thead th {\n",
              "        text-align: right;\n",
              "    }\n",
              "</style>\n",
              "<table border=\"1\" class=\"dataframe\">\n",
              "  <thead>\n",
              "    <tr style=\"text-align: right;\">\n",
              "      <th></th>\n",
              "      <th>year</th>\n",
              "      <th>college_degree</th>\n",
              "      <th>some_college</th>\n",
              "      <th>no_college</th>\n",
              "      <th>white</th>\n",
              "      <th>black</th>\n",
              "      <th>Hispanic</th>\n",
              "      <th>white_housing</th>\n",
              "      <th>black_housing</th>\n",
              "      <th>whitehosing25</th>\n",
              "      <th>blackhosing25</th>\n",
              "      <th>whiteNhosing25</th>\n",
              "      <th>blackNhosing25</th>\n",
              "    </tr>\n",
              "  </thead>\n",
              "  <tbody>\n",
              "    <tr>\n",
              "      <th>0</th>\n",
              "      <td>1989</td>\n",
              "      <td>233419.10</td>\n",
              "      <td>87061.03</td>\n",
              "      <td>57655.07</td>\n",
              "      <td>134901.68</td>\n",
              "      <td>7836.62</td>\n",
              "      <td>7463.44</td>\n",
              "      <td>54109.94</td>\n",
              "      <td>0</td>\n",
              "      <td>102622.30</td>\n",
              "      <td>59707.52</td>\n",
              "      <td>64931.93</td>\n",
              "      <td>11419.07</td>\n",
              "    </tr>\n",
              "    <tr>\n",
              "      <th>1</th>\n",
              "      <td>1992</td>\n",
              "      <td>183052.03</td>\n",
              "      <td>95173.64</td>\n",
              "      <td>50109.13</td>\n",
              "      <td>113285.98</td>\n",
              "      <td>17827.24</td>\n",
              "      <td>10900.94</td>\n",
              "      <td>46957.92</td>\n",
              "      <td>0</td>\n",
              "      <td>88884.63</td>\n",
              "      <td>55343.26</td>\n",
              "      <td>59871.35</td>\n",
              "      <td>13248.84</td>\n",
              "    </tr>\n",
              "    <tr>\n",
              "      <th>2</th>\n",
              "      <td>1995</td>\n",
              "      <td>191459.70</td>\n",
              "      <td>75794.61</td>\n",
              "      <td>67651.39</td>\n",
              "      <td>120582.34</td>\n",
              "      <td>18228.29</td>\n",
              "      <td>18933.00</td>\n",
              "      <td>42282.12</td>\n",
              "      <td>0</td>\n",
              "      <td>86130.24</td>\n",
              "      <td>46980.13</td>\n",
              "      <td>66367.27</td>\n",
              "      <td>16881.52</td>\n",
              "    </tr>\n",
              "    <tr>\n",
              "      <th>3</th>\n",
              "      <td>1998</td>\n",
              "      <td>261155.99</td>\n",
              "      <td>113831.55</td>\n",
              "      <td>61231.49</td>\n",
              "      <td>143562.03</td>\n",
              "      <td>23754.87</td>\n",
              "      <td>14415.22</td>\n",
              "      <td>49870.47</td>\n",
              "      <td>0</td>\n",
              "      <td>92953.83</td>\n",
              "      <td>45739.18</td>\n",
              "      <td>95093.24</td>\n",
              "      <td>20981.01</td>\n",
              "    </tr>\n",
              "    <tr>\n",
              "      <th>4</th>\n",
              "      <td>2001</td>\n",
              "      <td>347722.52</td>\n",
              "      <td>116246.22</td>\n",
              "      <td>63772.83</td>\n",
              "      <td>169776.38</td>\n",
              "      <td>27503.47</td>\n",
              "      <td>16258.21</td>\n",
              "      <td>63678.00</td>\n",
              "      <td>0</td>\n",
              "      <td>108388.08</td>\n",
              "      <td>52839.19</td>\n",
              "      <td>114484.91</td>\n",
              "      <td>25430.57</td>\n",
              "    </tr>\n",
              "    <tr>\n",
              "      <th>5</th>\n",
              "      <td>2004</td>\n",
              "      <td>331426.39</td>\n",
              "      <td>97036.96</td>\n",
              "      <td>63334.75</td>\n",
              "      <td>170100.84</td>\n",
              "      <td>26236.86</td>\n",
              "      <td>19509.14</td>\n",
              "      <td>69948.01</td>\n",
              "      <td>0</td>\n",
              "      <td>120819.29</td>\n",
              "      <td>57230.19</td>\n",
              "      <td>103905.86</td>\n",
              "      <td>19661.75</td>\n",
              "    </tr>\n",
              "    <tr>\n",
              "      <th>6</th>\n",
              "      <td>2007</td>\n",
              "      <td>375822.20</td>\n",
              "      <td>109953.53</td>\n",
              "      <td>69110.34</td>\n",
              "      <td>188177.44</td>\n",
              "      <td>19802.06</td>\n",
              "      <td>25499.49</td>\n",
              "      <td>78745.02</td>\n",
              "      <td>0</td>\n",
              "      <td>134329.74</td>\n",
              "      <td>69480.90</td>\n",
              "      <td>105414.11</td>\n",
              "      <td>21203.25</td>\n",
              "    </tr>\n",
              "    <tr>\n",
              "      <th>7</th>\n",
              "      <td>2010</td>\n",
              "      <td>276332.19</td>\n",
              "      <td>64274.87</td>\n",
              "      <td>45810.35</td>\n",
              "      <td>136508.10</td>\n",
              "      <td>17209.96</td>\n",
              "      <td>16581.04</td>\n",
              "      <td>49739.79</td>\n",
              "      <td>0</td>\n",
              "      <td>110532.87</td>\n",
              "      <td>65214.40</td>\n",
              "      <td>91742.28</td>\n",
              "      <td>18459.00</td>\n",
              "    </tr>\n",
              "    <tr>\n",
              "      <th>8</th>\n",
              "      <td>2013</td>\n",
              "      <td>291493.28</td>\n",
              "      <td>51967.68</td>\n",
              "      <td>42027.82</td>\n",
              "      <td>139817.79</td>\n",
              "      <td>10785.35</td>\n",
              "      <td>14095.20</td>\n",
              "      <td>48461.92</td>\n",
              "      <td>0</td>\n",
              "      <td>103110.47</td>\n",
              "      <td>59804.07</td>\n",
              "      <td>99852.17</td>\n",
              "      <td>15879.01</td>\n",
              "    </tr>\n",
              "    <tr>\n",
              "      <th>9</th>\n",
              "      <td>2016</td>\n",
              "      <td>293500.00</td>\n",
              "      <td>66040.00</td>\n",
              "      <td>45030.00</td>\n",
              "      <td>166001.00</td>\n",
              "      <td>15650.00</td>\n",
              "      <td>21300.00</td>\n",
              "      <td>60000.00</td>\n",
              "      <td>0</td>\n",
              "      <td>118000.00</td>\n",
              "      <td>62000.00</td>\n",
              "      <td>116300.00</td>\n",
              "      <td>16530.00</td>\n",
              "    </tr>\n",
              "  </tbody>\n",
              "</table>\n",
              "</div>"
            ],
            "text/plain": [
              "   year  college_degree  ...  whiteNhosing25  blackNhosing25\n",
              "0  1989       233419.10  ...        64931.93        11419.07\n",
              "1  1992       183052.03  ...        59871.35        13248.84\n",
              "2  1995       191459.70  ...        66367.27        16881.52\n",
              "3  1998       261155.99  ...        95093.24        20981.01\n",
              "4  2001       347722.52  ...       114484.91        25430.57\n",
              "5  2004       331426.39  ...       103905.86        19661.75\n",
              "6  2007       375822.20  ...       105414.11        21203.25\n",
              "7  2010       276332.19  ...        91742.28        18459.00\n",
              "8  2013       291493.28  ...        99852.17        15879.01\n",
              "9  2016       293500.00  ...       116300.00        16530.00\n",
              "\n",
              "[10 rows x 13 columns]"
            ]
          },
          "metadata": {},
          "execution_count": 137
        }
      ]
    },
    {
      "cell_type": "code",
      "metadata": {
        "colab": {
          "base_uri": "https://localhost:8080/",
          "height": 283
        },
        "id": "Q4PyBQsjQXC9",
        "outputId": "0dcef6c9-3721-4168-e0e7-a015a2788e6a"
      },
      "source": [
        "fig, ax = plt.subplots()\n",
        "\n",
        "ax.plot(dfmed['year'], dfmed['whitehosing25'], label = 'Housing (White)')\n",
        "ax.plot(dfmed['year'], dfmed['blackhosing25'], label = 'Housing (Black)')\n",
        "ax.plot(dfmed['year'], dfmed['whiteNhosing25'], label = 'Non-housing (White)')\n",
        "ax.plot(dfmed['year'], dfmed['blackNhosing25'], label = 'Non-housing (Black)')\n",
        "\n",
        "\n",
        "ax.set(xlabel='Year', ylabel='Median Wealth (USD)')\n",
        "\n",
        "ax.legend()\n",
        "plt.show()"
      ],
      "execution_count": null,
      "outputs": [
        {
          "output_type": "display_data",
          "data": {
            "image/png": "[encoded data removed]",
            "text/plain": [
              "<Figure size 432x288 with 1 Axes>"
            ]
          },
          "metadata": {
            "needs_background": "light"
          }
        }
      ]
    },
    {
      "cell_type": "code",
      "metadata": {
        "id": "sKYyzw0E_5D6"
      },
      "source": [
        "fig, ax = plt.subplots()\n",
        "\n",
        "ax.plot(range(len(centralityG14)), list(centralityG14.values()), label = '0.5')\n",
        "plt.xticks(np.arange(min(range(len(centralityG14))), max(range(len(centralityG14)))+1, 1.0))\n",
        "\n",
        "ax.set(xlabel='Node', ylabel='Katz Centrality')\n",
        "\n",
        "ax.legend()\n",
        "plt.show()"
      ],
      "execution_count": null,
      "outputs": []
    },
    {
      "cell_type": "code",
      "metadata": {
        "id": "Zfc5y96a5tFM"
      },
      "source": [
        "\n"
      ],
      "execution_count": null,
      "outputs": []
    }
  ]
}